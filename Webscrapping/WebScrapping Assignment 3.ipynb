{
 "cells": [
  {
   "cell_type": "markdown",
   "id": "4056a290",
   "metadata": {},
   "source": [
    "Write a python program which searches all the product under a particular product from www.amazon.in. The \n",
    "product to be searched will be taken as input from user. For e.g. If user input is ‘guitar’. Then search for \n",
    "guitars. "
   ]
  },
  {
   "cell_type": "code",
   "execution_count": 2,
   "id": "06b2c75c",
   "metadata": {},
   "outputs": [],
   "source": [
    "import selenium\n",
    "from selenium import webdriver\n",
    "import pandas as pd\n",
    "from selenium.webdriver.common.by import By\n",
    "from selenium.common.exceptions import NoSuchElementException,StaleElementReferenceException\n",
    "import time\n",
    "\n",
    "import warnings\n",
    "warnings.filterwarnings('ignore')"
   ]
  },
  {
   "cell_type": "code",
   "execution_count": null,
   "id": "644b20b9",
   "metadata": {},
   "outputs": [],
   "source": [
    "driver = webdriver.Chrome(r\"D:\\Data Science\\chromedriver_win32.zip\\chromedriver.exe\")\n",
    "driver.get('https://www.amazon.in')"
   ]
  },
  {
   "cell_type": "code",
   "execution_count": null,
   "id": "98aefd86",
   "metadata": {
    "scrolled": true
   },
   "outputs": [],
   "source": [
    "prod = input('type=\"Enter what you want to search\":')"
   ]
  },
  {
   "cell_type": "code",
   "execution_count": null,
   "id": "f51a060d",
   "metadata": {},
   "outputs": [],
   "source": [
    "search = driver.find_element(By.XPATH,'/html/body/div[1]/header/div/div[1]/div[2]/div/form/div[2]/div[1]/input')\n",
    "search.send_keys(prod)\n",
    "search.submit()"
   ]
  },
  {
   "cell_type": "markdown",
   "id": "c49ceebd",
   "metadata": {},
   "source": [
    "In the above question, now scrape the following details of each product listed in first 3 pages of your search \n",
    "results and save it in a data frame and csv. In case if any product has less than 3 pages in search results then \n",
    "scrape all the products available under that product name. Details to be scraped are: \"Brand \n",
    "Name\", \"Name of the Product\", \"Price\", \"Return/Exchange\", \"Expected Delivery\", \"Availability\" and \n",
    "“Product URL”. In case, if any of the details are missing for any of the product then replace it by “-“. "
   ]
  },
  {
   "cell_type": "code",
   "execution_count": null,
   "id": "0aa19fa1",
   "metadata": {},
   "outputs": [],
   "source": [
    "name,price,dilevery,url = [],[],[],[]\n",
    "for i in driver.find_elements(By.XPATH,\"//span[@class=\"a-size-base-plus a-color-base a-text-normal\"]\"):\n",
    "    name.append(i.text)\n",
    "for i in driver.find_elements(By.XPATH,\"//span[@class=\"a-price-whole\"]\"):\n",
    "    price.append(i.text)\n",
    "for i in driver.find_elements(By.XPATH,\"//span[@class=\"a-color-base a-text-bold\"]\"):\n",
    "    dilevery.append(i.text)\n",
    "for i in driver.find_elements(By.XPATH,\"//a[@class=\"a-link-normal s-underline-text s-underline-link-text s-link-style a-text-normal\"]\"):\n",
    "    url.append(i.get_attribute('href'))"
   ]
  },
  {
   "cell_type": "markdown",
   "id": "0e80c7c8",
   "metadata": {},
   "source": [
    "Write a python program to access the search bar and search button on images.google.com and scrape 10 \n",
    "images each for keywords ‘fruits’, ‘cars’ and ‘Machine Learning’, ‘Guitar’, ‘Cakes’."
   ]
  },
  {
   "cell_type": "code",
   "execution_count": null,
   "id": "daa2c127",
   "metadata": {},
   "outputs": [],
   "source": [
    "driver = webdriver.Chrome(r\"D:\\Data Science\\chromedriver_win32.zip\\chromedriver.exe\")\n",
    "driver.get('https://images.google.com')"
   ]
  },
  {
   "cell_type": "code",
   "execution_count": null,
   "id": "8c4b5b9e",
   "metadata": {},
   "outputs": [],
   "source": [
    "search = driver.find_element(By.XPATH,'/html/body/div[1]/div[3]/form/div[1]/div[1]/div[1]/div/div[2]/input')\n",
    "search.send_keys('fruits')\n",
    "search.submit()"
   ]
  },
  {
   "cell_type": "code",
   "execution_count": null,
   "id": "4d6a5816",
   "metadata": {},
   "outputs": [],
   "source": [
    "imag = []\n",
    "for i in driver.find_elements(By.XPATH,'//img[@class=\"rg_i Q4LuWd\"]'):\n",
    "    imag.append(i.get_attribute('src'))"
   ]
  },
  {
   "cell_type": "code",
   "execution_count": null,
   "id": "0cef0b37",
   "metadata": {},
   "outputs": [],
   "source": [
    "search = driver.find_element(By.XPATH,'/html/body/c-wiz/c-wiz/div/div[3]/div[2]/div/div[1]/form/div[1]/div[2]/div/div[2]/input')\n",
    "search.clear()\n",
    "delay = 2\n",
    "search.send_keys('cars')\n",
    "search.submit()"
   ]
  },
  {
   "cell_type": "code",
   "execution_count": null,
   "id": "04215c12",
   "metadata": {},
   "outputs": [],
   "source": [
    "car = []\n",
    "for i in driver.find_elements(By.XPATH,'//img[@class=\"rg_i Q4LuWd\"]'):\n",
    "    car.append(i.get_attribute('src'))"
   ]
  },
  {
   "cell_type": "code",
   "execution_count": null,
   "id": "af851697",
   "metadata": {},
   "outputs": [],
   "source": [
    "search = driver.find_element(By.XPATH,'/html/body/c-wiz/c-wiz/div/div[3]/div[2]/div/div[1]/form/div[1]/div[2]/div/div[2]/input')\n",
    "search.clear()\n",
    "delay = 2\n",
    "search.send_keys('machine learning')\n",
    "search.submit()"
   ]
  },
  {
   "cell_type": "code",
   "execution_count": null,
   "id": "5eca52f3",
   "metadata": {},
   "outputs": [],
   "source": [
    "ml = []\n",
    "for i in driver.find_elements(By.XPATH,'//img[@class=\"rg_i Q4LuWd\"]'):\n",
    "    ml.append(i.get_attribute('src'))"
   ]
  },
  {
   "cell_type": "code",
   "execution_count": null,
   "id": "90c2ad12",
   "metadata": {},
   "outputs": [],
   "source": [
    "search = driver.find_element(By.XPATH,'/html/body/c-wiz/c-wiz/div/div[3]/div[2]/div/div[1]/form/div[1]/div[2]/div/div[2]/input')\n",
    "search.clear()\n",
    "delay = 2\n",
    "search.send_keys('guitar')\n",
    "search.submit()"
   ]
  },
  {
   "cell_type": "code",
   "execution_count": null,
   "id": "612ef45e",
   "metadata": {},
   "outputs": [],
   "source": [
    "guitar = []\n",
    "for i in driver.find_elements(By.XPATH,'//img[@class=\"rg_i Q4LuWd\"]'):\n",
    "    guitar.append(i.get_attribute('src'))"
   ]
  },
  {
   "cell_type": "code",
   "execution_count": null,
   "id": "30c74f95",
   "metadata": {},
   "outputs": [],
   "source": [
    "search = driver.find_element(By.XPATH,'/html/body/c-wiz/c-wiz/div/div[3]/div[2]/div/div[1]/form/div[1]/div[2]/div/div[2]/input')\n",
    "search.clear()\n",
    "delay = 2\n",
    "search.send_keys('cake')\n",
    "search.submit()"
   ]
  },
  {
   "cell_type": "code",
   "execution_count": null,
   "id": "ff078b97",
   "metadata": {},
   "outputs": [],
   "source": [
    "cake = []\n",
    "for i in driver.find_elements(By.XPATH,'//img[@class=\"rg_i Q4LuWd\"]'):\n",
    "    cake.append(i.get_attribute('src'))"
   ]
  },
  {
   "cell_type": "code",
   "execution_count": null,
   "id": "9e29eeca",
   "metadata": {},
   "outputs": [],
   "source": [
    "d = pd.DataFrame({'Fruits':imag[0:10],'Cars':car[0:10],'Machine Learning':ml[0:10],'Guitar':guitar[0:10],'Cake':cake[0:10]})"
   ]
  },
  {
   "cell_type": "code",
   "execution_count": null,
   "id": "1a15da32",
   "metadata": {},
   "outputs": [],
   "source": [
    "d.to_csv('image.csv')"
   ]
  },
  {
   "cell_type": "code",
   "execution_count": null,
   "id": "c1c9763a",
   "metadata": {},
   "outputs": [],
   "source": [
    "di = pd.read_csv('image.csv')\n",
    "di.drop('Unnamed: 0',axis =1)"
   ]
  },
  {
   "cell_type": "markdown",
   "id": "3da19389",
   "metadata": {},
   "source": [
    "Write a python program to search for a smartphone(e.g.: Oneplus Nord, pixel 4A, etc.) on www.flipkart.com\n",
    "and scrape following details for all the search results displayed on 1st page. Details to be scraped: “Brand \n",
    "Name”, “Smartphone name”, “Colour”, “RAM”, “Storage(ROM)”, “Primary Camera”, \n",
    "“Secondary Camera”, “Display Size”, “Battery Capacity”, “Price”, “Product URL”. Incase if any of the \n",
    "details is missing then replace it by “- “. Save your results in a dataframe and CSV."
   ]
  },
  {
   "cell_type": "code",
   "execution_count": null,
   "id": "88160881",
   "metadata": {},
   "outputs": [],
   "source": [
    "driver = webdriver.Chrome(r\"D:\\Data Science\\chromedriver_win32.zip\\chromedriver.exe\")\n",
    "driver.get('https:www.flipkart.com')"
   ]
  },
  {
   "cell_type": "code",
   "execution_count": null,
   "id": "3851a6d9",
   "metadata": {},
   "outputs": [],
   "source": [
    "close = driver.find_element(By.XPATH,'/html/body/div[2]/div/div/button')\n",
    "close.click()"
   ]
  },
  {
   "cell_type": "code",
   "execution_count": null,
   "id": "9743ec94",
   "metadata": {},
   "outputs": [],
   "source": [
    "search = driver.find_element(By.XPATH,'/html/body/div[1]/div/div[1]/div[1]/div[2]/div[2]/form/div/div/input')\n",
    "search.send_keys('oneplus nord')\n",
    "search.submit()"
   ]
  },
  {
   "cell_type": "code",
   "execution_count": null,
   "id": "505b497a",
   "metadata": {},
   "outputs": [],
   "source": [
    "brand,name,color = [],[],[]\n",
    "for i in driver.find_elements(By.XPATH,'//div[@class=\"_4rR01T\"]'):\n",
    "    brand.append(i.text.split(' ')[0])\n",
    "    name.append(i.text)\n",
    "    co = i.text.split('(')[-1]\n",
    "    color.append(co.split(',')[0])"
   ]
  },
  {
   "cell_type": "code",
   "execution_count": null,
   "id": "21b0c025",
   "metadata": {},
   "outputs": [],
   "source": [
    "ram,rom,pc,display,battery = [],[],[],[],[]\n",
    "for i in driver.find_elements(By.XPATH,'//ul[@class=\"_1xgFaf\"]'):\n",
    "    display.append(i.text.split('\\n')[1])\n",
    "    battery.append(i.text.split('\\n')[-2])\n",
    "    \n",
    "    ra = i.text.split('\\n')[0]\n",
    "    ram.append(ra.split('|')[0])\n",
    "    rom.append(ra.split('|')[1])\n",
    "    \n",
    "    cam = i.text.split('\\n')[2]\n",
    "    pc.append(cam.split('|')[0])"
   ]
  },
  {
   "cell_type": "code",
   "execution_count": null,
   "id": "1b909130",
   "metadata": {},
   "outputs": [],
   "source": [
    "price,link = [],[]\n",
    "for i in driver.find_elements(By.XPATH,'//div[@class=\"_30jeq3 _1_WHN1\"]'):\n",
    "    price.append(i.text)\n",
    "for i in driver.find_elements(By.XPATH,\"//a[@class = '_1fQZEK']\"):\n",
    "    link.append(i.get_attribute('href'))"
   ]
  },
  {
   "cell_type": "code",
   "execution_count": null,
   "id": "10e951ef",
   "metadata": {},
   "outputs": [],
   "source": [
    "len(brand),len(name),len(color),len(ram),len(rom),len(pc),len(display),len(battery),len(price),len(link)"
   ]
  },
  {
   "cell_type": "code",
   "execution_count": null,
   "id": "d1b3edce",
   "metadata": {},
   "outputs": [],
   "source": [
    "pho = pd.DataFrame({'Brand Name':brand,'Smartphone Name':name,'Color':color,'RAM':ram,'Storage(ROM)':rom,'Camera':pc,'Display':display,'Battery':battery,'Price':price,'URL':link})\n"
   ]
  },
  {
   "cell_type": "code",
   "execution_count": null,
   "id": "e6f37c4a",
   "metadata": {},
   "outputs": [],
   "source": [
    "pho.to_csv('Phone.csv')"
   ]
  },
  {
   "cell_type": "code",
   "execution_count": null,
   "id": "f34763dc",
   "metadata": {},
   "outputs": [],
   "source": [
    "pd.read_csv('Phone.csv').head()"
   ]
  },
  {
   "cell_type": "code",
   "execution_count": null,
   "id": "38a0230c",
   "metadata": {},
   "outputs": [],
   "source": [
    "driver.close()"
   ]
  },
  {
   "cell_type": "markdown",
   "id": "47021e1a",
   "metadata": {},
   "source": [
    "Write a program to scrap geospatial coordinates (latitude, longitude) of a city searched on google maps. "
   ]
  },
  {
   "cell_type": "code",
   "execution_count": null,
   "id": "3b14f088",
   "metadata": {},
   "outputs": [],
   "source": [
    "driver = webdriver.Chrome(r\"D:\\Data Science\\chromedriver_win32.zip\\chromedriver.exe\")\n",
    "driver.get('https://www.google.com/maps')"
   ]
  },
  {
   "cell_type": "code",
   "execution_count": null,
   "id": "7f055539",
   "metadata": {},
   "outputs": [],
   "source": [
    "search = driver.find_element(By.XPATH,'/html/body/div[3]/div[9]/div[3]/div[1]/div[1]/div[1]/div[2]/form/div[2]/div[3]/div/input[1]')\n",
    "search.send_keys('Gurgaon')"
   ]
  },
  {
   "cell_type": "code",
   "execution_count": null,
   "id": "30e178ad",
   "metadata": {},
   "outputs": [],
   "source": [
    "loc = driver.find_element(By.XPATH,'/html/body/div[3]/div[9]/div[3]/div[1]/div[1]/div[1]/div[2]/div[1]')\n",
    "loc.click()"
   ]
  },
  {
   "cell_type": "code",
   "execution_count": null,
   "id": "cc407a42",
   "metadata": {},
   "outputs": [],
   "source": [
    "time.sleep(5)\n",
    "url = driver.current_url"
   ]
  },
  {
   "cell_type": "code",
   "execution_count": null,
   "id": "6196fecc",
   "metadata": {},
   "outputs": [],
   "source": [
    "ll = url.split('/')[-2]"
   ]
  },
  {
   "cell_type": "code",
   "execution_count": null,
   "id": "aee9a27a",
   "metadata": {},
   "outputs": [],
   "source": [
    "lat = ll.split(',')[0].replace('@','')\n",
    "lon = ll.split(',')[1]"
   ]
  },
  {
   "cell_type": "code",
   "execution_count": null,
   "id": "4eb182a1",
   "metadata": {},
   "outputs": [],
   "source": [
    "print('Latitude = ',lat)\n",
    "print('Longitude = ',lon)"
   ]
  },
  {
   "cell_type": "code",
   "execution_count": null,
   "id": "2be15c5a",
   "metadata": {},
   "outputs": [],
   "source": [
    "driver.close()"
   ]
  },
  {
   "cell_type": "markdown",
   "id": "a3c44837",
   "metadata": {},
   "source": [
    "Write a program to scrap all the available details of best gaming laptops from digit.in. "
   ]
  },
  {
   "cell_type": "code",
   "execution_count": null,
   "id": "aac96cfc",
   "metadata": {},
   "outputs": [],
   "source": [
    "driver = webdriver.Chrome(r\"D:\\Data Science\\chromedriver_win32.zip\\chromedriver.exe\")\n",
    "driver.get('https://www.digit.in')"
   ]
  },
  {
   "cell_type": "code",
   "execution_count": null,
   "id": "bc2b0adf",
   "metadata": {},
   "outputs": [],
   "source": [
    "search = driver.find_element(By.XPATH,'/html/body/div[1]/div/div[3]/div[2]/a/img')\n",
    "search.click()"
   ]
  },
  {
   "cell_type": "code",
   "execution_count": null,
   "id": "8ad965c6",
   "metadata": {},
   "outputs": [],
   "source": [
    "here = driver.find_element(By.XPATH,'/html/body/div[6]/div/div/div/input')\n",
    "here.send_keys('Best gaming laptop' + '\\n')"
   ]
  },
  {
   "cell_type": "code",
   "execution_count": null,
   "id": "3128b73c",
   "metadata": {},
   "outputs": [],
   "source": [
    "laptop,date = [],[]\n",
    "for i in driver.find_elements(By.XPATH,'//div[@class=\"searchProduct-desc\"]'):\n",
    "    laptop.append(i.text)\n",
    "for i in driver.find_elements(By.XPATH,'//div[@class = \"searchPage\"]'):\n",
    "    date.append(i.text.split('\\n')[-1])"
   ]
  },
  {
   "cell_type": "code",
   "execution_count": null,
   "id": "1c01a6d0",
   "metadata": {},
   "outputs": [],
   "source": [
    "len(date),len(laptop)"
   ]
  },
  {
   "cell_type": "code",
   "execution_count": null,
   "id": "e40631b1",
   "metadata": {},
   "outputs": [],
   "source": [
    "dig = pd.DataFrame({'Laptop Name':laptop,'Date':date})"
   ]
  },
  {
   "cell_type": "code",
   "execution_count": null,
   "id": "23471770",
   "metadata": {},
   "outputs": [],
   "source": [
    "dig.to_csv('digit.csv')"
   ]
  },
  {
   "cell_type": "code",
   "execution_count": null,
   "id": "4b413f31",
   "metadata": {},
   "outputs": [],
   "source": [
    "pd.read_csv('digit.csv').head()"
   ]
  },
  {
   "cell_type": "code",
   "execution_count": null,
   "id": "b95e196f",
   "metadata": {},
   "outputs": [],
   "source": [
    "driver.close()"
   ]
  },
  {
   "cell_type": "markdown",
   "id": "df54f493",
   "metadata": {},
   "source": [
    "Write a python program to scrape the details for all billionaires from www.forbes.com. Details to be scrapped: \n",
    "“Rank”, “Name”, “Net worth”, “Age”, “Citizenship”, “Source”, “Industry”. "
   ]
  },
  {
   "cell_type": "code",
   "execution_count": 3,
   "id": "0ef77a57",
   "metadata": {},
   "outputs": [],
   "source": [
    "driver = webdriver.Chrome(r\"D:\\Data Science\\chromedriver_win32.zip\\chromedriver.exe\")\n",
    "driver.get('https://www.forbes.com')"
   ]
  },
  {
   "cell_type": "code",
   "execution_count": 4,
   "id": "e37eec11",
   "metadata": {},
   "outputs": [],
   "source": [
    "expl = driver.find_element(By.XPATH,'/html/body/div[1]/header/nav/div[3]/button')\n",
    "expl.click()\n",
    "time.sleep(2)"
   ]
  },
  {
   "cell_type": "code",
   "execution_count": 8,
   "id": "d5993a3b",
   "metadata": {},
   "outputs": [],
   "source": [
    "billionaires = driver.find_element(By.XPATH,'/html/body/div[1]/header/nav/div[1]/div/div/div')\n",
    "billionaires.click()"
   ]
  },
  {
   "cell_type": "code",
   "execution_count": null,
   "id": "e24023fc",
   "metadata": {},
   "outputs": [],
   "source": []
  },
  {
   "cell_type": "code",
   "execution_count": null,
   "id": "50e179a3",
   "metadata": {},
   "outputs": [],
   "source": []
  },
  {
   "cell_type": "code",
   "execution_count": null,
   "id": "9b9a5a92",
   "metadata": {},
   "outputs": [],
   "source": []
  },
  {
   "cell_type": "code",
   "execution_count": null,
   "id": "a3fc18d3",
   "metadata": {},
   "outputs": [],
   "source": []
  },
  {
   "cell_type": "code",
   "execution_count": null,
   "id": "1d6bb627",
   "metadata": {},
   "outputs": [],
   "source": []
  },
  {
   "cell_type": "code",
   "execution_count": null,
   "id": "174e564f",
   "metadata": {},
   "outputs": [],
   "source": []
  },
  {
   "cell_type": "markdown",
   "id": "5a6df405",
   "metadata": {},
   "source": [
    "Write a program to extract at least 500 Comments, Comment upvote and time when comment was posted \n",
    "from any YouTube Video. "
   ]
  },
  {
   "cell_type": "code",
   "execution_count": null,
   "id": "8b8fff15",
   "metadata": {},
   "outputs": [],
   "source": [
    "driver = webdriver.Chrome(r\"D:\\Data Science\\chromedriver_win32.zip\\chromedriver.exe\")\n",
    "driver.get('https://www.youtube.com')"
   ]
  },
  {
   "cell_type": "code",
   "execution_count": null,
   "id": "7c8b1b51",
   "metadata": {},
   "outputs": [],
   "source": [
    "search = driver.find_element(By.XPATH,'/html/body/ytd-app/div[1]/div/ytd-masthead/div[4]/div[2]/ytd-searchbox/form/div[1]/div[1]/input')\n",
    "search.send_keys('Billi Billi - Kisi Ka Bhai Kisi Ki Jaan | Salman Khan | Pooja Hegde | Venkatesh D | Sukhbir | Kumaar')\n",
    "search.submit()\n",
    "delay = 5"
   ]
  },
  {
   "cell_type": "code",
   "execution_count": null,
   "id": "dd9b8e2f",
   "metadata": {},
   "outputs": [],
   "source": [
    "song = driver.find_element(By.XPATH,'/html/body/ytd-app/div[1]/ytd-page-manager/ytd-search/div[1]/ytd-two-column-search-results-renderer/div/ytd-section-list-renderer/div[2]/ytd-item-section-renderer/div[3]/ytd-video-renderer[1]/div[1]/div/div[1]/div/h3/a/yt-formatted-string')\n",
    "song.click()"
   ]
  },
  {
   "cell_type": "code",
   "execution_count": null,
   "id": "607634e7",
   "metadata": {},
   "outputs": [],
   "source": [
    "for _ in range(1000):\n",
    "    driver.execute_script(\"window.scrollBy(0,1000)\")"
   ]
  },
  {
   "cell_type": "code",
   "execution_count": null,
   "id": "6091865f",
   "metadata": {},
   "outputs": [],
   "source": [
    "op = []\n",
    "for i in driver.find_elements(By.XPATH,'//div[@class=\"style-scope ytd-expander\"]'):\n",
    "    op.append(i.text)"
   ]
  },
  {
   "cell_type": "code",
   "execution_count": null,
   "id": "054f9fda",
   "metadata": {},
   "outputs": [],
   "source": [
    "time = []\n",
    "for i in driver.find_elements(By.XPATH,'//a[@class=\"yt-simple-endpoint style-scope yt-formatted-string\"]'):\n",
    "    time.append(i.text)"
   ]
  },
  {
   "cell_type": "code",
   "execution_count": null,
   "id": "ee883483",
   "metadata": {},
   "outputs": [],
   "source": [
    "ti = time[79:579]"
   ]
  },
  {
   "cell_type": "code",
   "execution_count": null,
   "id": "dadbf2af",
   "metadata": {},
   "outputs": [],
   "source": [
    "co = op[2:502]"
   ]
  },
  {
   "cell_type": "code",
   "execution_count": null,
   "id": "06988b49",
   "metadata": {},
   "outputs": [],
   "source": [
    "len(ti),len(co)"
   ]
  },
  {
   "cell_type": "code",
   "execution_count": null,
   "id": "5cf0d27c",
   "metadata": {},
   "outputs": [],
   "source": [
    "comment = pd.DataFrame({'Comments':co,'Time':ti})"
   ]
  },
  {
   "cell_type": "code",
   "execution_count": null,
   "id": "f09c141d",
   "metadata": {},
   "outputs": [],
   "source": [
    "comment.to_csv('Youtube.csv')"
   ]
  },
  {
   "cell_type": "code",
   "execution_count": null,
   "id": "595f36e1",
   "metadata": {},
   "outputs": [],
   "source": [
    "df = pd.read_csv('Youtube.csv')\n",
    "df.tail()"
   ]
  },
  {
   "cell_type": "markdown",
   "id": "176917b3",
   "metadata": {},
   "source": [
    "Write a python program to scrape a data for all available Hostels from https://www.hostelworld.com/ in \n",
    "“London” location. You have to scrape hostel name, distance from city centre, ratings, total reviews, overall \n",
    "reviews, privates from price, dorms from price, facilities and property description"
   ]
  },
  {
   "cell_type": "code",
   "execution_count": null,
   "id": "9240c306",
   "metadata": {},
   "outputs": [],
   "source": [
    "driver = webdriver.Chrome(r\"D:\\Data Science\\chromedriver_win32.zip\\chromedriver.exe\")\n",
    "driver.get('https://www.hostelworld.com')"
   ]
  },
  {
   "cell_type": "code",
   "execution_count": null,
   "id": "0ca0f422",
   "metadata": {},
   "outputs": [],
   "source": [
    "try:\n",
    "    search = driver.find_element(By.XPATH,'/html/body/div[3]/div/div/div[2]/div[2]/div/div/div[4]/div/div[2]/div/div[1]/div/div/div/input')\n",
    "    search.send_keys('london' + '\\n')\n",
    "    \n",
    "    lon = driver.find_element(By.XPATH,'/html/body/div[3]/div/div/div[2]/div[2]/div/div/div[4]/div/div[2]/div/div[1]/div/div/ul/li/span[1]')\n",
    "    lon.click()\n",
    "    \n",
    "    \n",
    "    go = driver.find_element(By.XPATH,'/html/body/div[3]/div/div/div[2]/div[2]/div/div/div[4]/div/div[2]/div/div[5]/button')\n",
    "    go.click()"
   ]
  },
  {
   "cell_type": "code",
   "execution_count": null,
   "id": "f8a6f1ef",
   "metadata": {},
   "outputs": [],
   "source": []
  }
 ],
 "metadata": {
  "kernelspec": {
   "display_name": "Python 3 (ipykernel)",
   "language": "python",
   "name": "python3"
  },
  "language_info": {
   "codemirror_mode": {
    "name": "ipython",
    "version": 3
   },
   "file_extension": ".py",
   "mimetype": "text/x-python",
   "name": "python",
   "nbconvert_exporter": "python",
   "pygments_lexer": "ipython3",
   "version": "3.9.12"
  }
 },
 "nbformat": 4,
 "nbformat_minor": 5
}
