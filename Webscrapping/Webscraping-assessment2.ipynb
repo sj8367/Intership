{
 "cells": [
  {
   "cell_type": "markdown",
   "id": "86ad5150",
   "metadata": {},
   "source": [
    "Q1: Write a python program to scrape data for “Data Analyst” Job position in “Bangalore” location. You\n",
    "have to scrape the job-title, job-location, company_name, experience_required. You have to scrape first 10\n",
    "jobs data.\n",
    "This task will be done in following steps:\n",
    "1. First get the webpage https://www.naukri.com/\n",
    "2. Enter “Data Analyst” in “Skill, Designations, Companies” field and enter “Bangalore” in “enter the\n",
    "location” field.\n",
    "3. Then click the searchbutton.\n",
    "4. Then scrape the data for the first 10 jobs results you get.\n",
    "5. Finally create a dataframe of the scraped data"
   ]
  },
  {
   "cell_type": "code",
   "execution_count": 166,
   "id": "fe85a8f4",
   "metadata": {},
   "outputs": [
    {
     "name": "stdout",
     "output_type": "stream",
     "text": [
      "Requirement already satisfied: selenium in c:\\users\\admin\\anaconda3\\lib\\site-packages (4.8.0)\n",
      "Requirement already satisfied: trio~=0.17 in c:\\users\\admin\\anaconda3\\lib\\site-packages (from selenium) (0.22.0)\n",
      "Requirement already satisfied: trio-websocket~=0.9 in c:\\users\\admin\\anaconda3\\lib\\site-packages (from selenium) (0.9.2)\n",
      "Requirement already satisfied: urllib3[socks]~=1.26 in c:\\users\\admin\\anaconda3\\lib\\site-packages (from selenium) (1.26.9)\n",
      "Requirement already satisfied: certifi>=2021.10.8 in c:\\users\\admin\\anaconda3\\lib\\site-packages (from selenium) (2021.10.8)\n",
      "Requirement already satisfied: outcome in c:\\users\\admin\\anaconda3\\lib\\site-packages (from trio~=0.17->selenium) (1.2.0)\n",
      "Requirement already satisfied: exceptiongroup>=1.0.0rc9 in c:\\users\\admin\\anaconda3\\lib\\site-packages (from trio~=0.17->selenium) (1.1.0)\n",
      "Requirement already satisfied: sniffio in c:\\users\\admin\\anaconda3\\lib\\site-packages (from trio~=0.17->selenium) (1.2.0)\n",
      "Requirement already satisfied: cffi>=1.14 in c:\\users\\admin\\anaconda3\\lib\\site-packages (from trio~=0.17->selenium) (1.15.0)\n",
      "Requirement already satisfied: attrs>=19.2.0 in c:\\users\\admin\\anaconda3\\lib\\site-packages (from trio~=0.17->selenium) (21.4.0)\n",
      "Requirement already satisfied: idna in c:\\users\\admin\\anaconda3\\lib\\site-packages (from trio~=0.17->selenium) (3.3)\n",
      "Requirement already satisfied: async-generator>=1.9 in c:\\users\\admin\\anaconda3\\lib\\site-packages (from trio~=0.17->selenium) (1.10)\n",
      "Requirement already satisfied: sortedcontainers in c:\\users\\admin\\anaconda3\\lib\\site-packages (from trio~=0.17->selenium) (2.4.0)\n",
      "Requirement already satisfied: pycparser in c:\\users\\admin\\anaconda3\\lib\\site-packages (from cffi>=1.14->trio~=0.17->selenium) (2.21)\n",
      "Requirement already satisfied: wsproto>=0.14 in c:\\users\\admin\\anaconda3\\lib\\site-packages (from trio-websocket~=0.9->selenium) (1.2.0)\n",
      "Requirement already satisfied: PySocks!=1.5.7,<2.0,>=1.5.6 in c:\\users\\admin\\anaconda3\\lib\\site-packages (from urllib3[socks]~=1.26->selenium) (1.7.1)\n",
      "Requirement already satisfied: h11<1,>=0.9.0 in c:\\users\\admin\\anaconda3\\lib\\site-packages (from wsproto>=0.14->trio-websocket~=0.9->selenium) (0.14.0)\n"
     ]
    }
   ],
   "source": [
    "!pip install selenium"
   ]
  },
  {
   "cell_type": "code",
   "execution_count": 167,
   "id": "68064c0d",
   "metadata": {},
   "outputs": [],
   "source": [
    "import selenium\n",
    "from selenium import webdriver\n",
    "import pandas as pd\n",
    "import warnings\n",
    "warnings.filterwarnings('ignore')\n",
    "import time\n",
    "from selenium.common.exceptions import StaleElementReferenceException\n",
    "from selenium.common.exceptions import NoSuchElementException\n",
    "from selenium.webdriver.common.by import By\n",
    "import time"
   ]
  },
  {
   "cell_type": "code",
   "execution_count": 168,
   "id": "31794a16",
   "metadata": {},
   "outputs": [],
   "source": [
    "# lets connect to the driver\n",
    "driver=webdriver.Chrome(r\"D:\\Data Science\\chromedriver_win32.zip\\chromedriver.exe\")"
   ]
  },
  {
   "cell_type": "code",
   "execution_count": 169,
   "id": "fbeb4b1b",
   "metadata": {},
   "outputs": [],
   "source": [
    "url=\"https://www.naukri.com/\"\n",
    "driver.get(url)"
   ]
  },
  {
   "cell_type": "code",
   "execution_count": 170,
   "id": "699c3255",
   "metadata": {},
   "outputs": [],
   "source": [
    "search = driver.find_element(By.CLASS_NAME,\"suggestor-input\")\n",
    "search.send_keys('Data Analyst')"
   ]
  },
  {
   "cell_type": "code",
   "execution_count": 173,
   "id": "e89fa958",
   "metadata": {},
   "outputs": [],
   "source": [
    "loc = driver.find_element(By.XPATH,'/html/body/div[1]/div[6]/div/div/div[5]/div/div/div/input')\n",
    "loc.send_keys('Bangalore')"
   ]
  },
  {
   "cell_type": "code",
   "execution_count": 175,
   "id": "50ee4449",
   "metadata": {},
   "outputs": [],
   "source": [
    "button = driver.find_element(By.XPATH,'/html/body/div[1]/div[6]/div/div/div[6]')\n",
    "button.click()"
   ]
  },
  {
   "cell_type": "code",
   "execution_count": 181,
   "id": "8cd93b25",
   "metadata": {},
   "outputs": [],
   "source": [
    "title = []\n",
    "for i in driver.find_elements(By.XPATH,'//a[@class=\"title ellipsis\"]'):\n",
    "    title.append(i.text)"
   ]
  },
  {
   "cell_type": "code",
   "execution_count": 182,
   "id": "08bbfc6d",
   "metadata": {},
   "outputs": [],
   "source": [
    "location = []\n",
    "for i in driver.find_elements(By.XPATH,'//li[@class=\"fleft br2 placeHolderLi location\"]'):\n",
    "    location.append(i.text)"
   ]
  },
  {
   "cell_type": "code",
   "execution_count": 183,
   "id": "4631466e",
   "metadata": {},
   "outputs": [],
   "source": [
    "company = []\n",
    "for i in driver.find_elements(By.XPATH,'//a[@class=\"subTitle ellipsis fleft\"]'):\n",
    "    company.append(i.text)"
   ]
  },
  {
   "cell_type": "code",
   "execution_count": 184,
   "id": "a2c48aa1",
   "metadata": {},
   "outputs": [],
   "source": [
    "exp = []\n",
    "for i in driver.find_elements(By.XPATH,'//li[@class=\"fleft br2 placeHolderLi experience\"]'):\n",
    "    exp.append(i.text)"
   ]
  },
  {
   "cell_type": "code",
   "execution_count": 185,
   "id": "5cbdbce9",
   "metadata": {},
   "outputs": [
    {
     "data": {
      "text/html": [
       "<div>\n",
       "<style scoped>\n",
       "    .dataframe tbody tr th:only-of-type {\n",
       "        vertical-align: middle;\n",
       "    }\n",
       "\n",
       "    .dataframe tbody tr th {\n",
       "        vertical-align: top;\n",
       "    }\n",
       "\n",
       "    .dataframe thead th {\n",
       "        text-align: right;\n",
       "    }\n",
       "</style>\n",
       "<table border=\"1\" class=\"dataframe\">\n",
       "  <thead>\n",
       "    <tr style=\"text-align: right;\">\n",
       "      <th></th>\n",
       "      <th>Job-title</th>\n",
       "      <th>Location</th>\n",
       "      <th>Company Name</th>\n",
       "      <th>Experience</th>\n",
       "    </tr>\n",
       "  </thead>\n",
       "  <tbody>\n",
       "    <tr>\n",
       "      <th>0</th>\n",
       "      <td>Tech Data Analyst</td>\n",
       "      <td>Hybrid - Bangalore/Bengaluru, Gurgaon/Gurugram</td>\n",
       "      <td>Wipro</td>\n",
       "      <td>4-7 Yrs</td>\n",
       "    </tr>\n",
       "    <tr>\n",
       "      <th>1</th>\n",
       "      <td>Data Analyst</td>\n",
       "      <td>Bangalore/Bengaluru</td>\n",
       "      <td>Enrich Talents</td>\n",
       "      <td>0-4 Yrs</td>\n",
       "    </tr>\n",
       "    <tr>\n",
       "      <th>2</th>\n",
       "      <td>K12 Techno Services - Data Analyst - IIM/ISB/M...</td>\n",
       "      <td>Bangalore/Bengaluru</td>\n",
       "      <td>K12 Techno Services</td>\n",
       "      <td>4-9 Yrs</td>\n",
       "    </tr>\n",
       "    <tr>\n",
       "      <th>3</th>\n",
       "      <td>Data Analyst</td>\n",
       "      <td>Bangalore/Bengaluru</td>\n",
       "      <td>Freshtohome</td>\n",
       "      <td>1-4 Yrs</td>\n",
       "    </tr>\n",
       "    <tr>\n",
       "      <th>4</th>\n",
       "      <td>Hiring For Data Analyst-Bangalore-Contract role</td>\n",
       "      <td>Bangalore/Bengaluru</td>\n",
       "      <td>Persolkelly India</td>\n",
       "      <td>2-5 Yrs</td>\n",
       "    </tr>\n",
       "    <tr>\n",
       "      <th>5</th>\n",
       "      <td>Data Analyst</td>\n",
       "      <td>Bangalore/Bengaluru, Kolkata</td>\n",
       "      <td>Anthroplace Consulting</td>\n",
       "      <td>2-6 Yrs</td>\n",
       "    </tr>\n",
       "    <tr>\n",
       "      <th>6</th>\n",
       "      <td>Data Analyst</td>\n",
       "      <td>Hybrid - Bangalore/Bengaluru</td>\n",
       "      <td>Allegis Group</td>\n",
       "      <td>6-8 Yrs</td>\n",
       "    </tr>\n",
       "    <tr>\n",
       "      <th>7</th>\n",
       "      <td>Data Analyst</td>\n",
       "      <td>Bangalore/Bengaluru</td>\n",
       "      <td>Novel Office</td>\n",
       "      <td>0-2 Yrs</td>\n",
       "    </tr>\n",
       "    <tr>\n",
       "      <th>8</th>\n",
       "      <td>Data Analyst</td>\n",
       "      <td>Bangalore/Bengaluru</td>\n",
       "      <td>VN2 Solutions Pvt Ltd</td>\n",
       "      <td>0-4 Yrs</td>\n",
       "    </tr>\n",
       "    <tr>\n",
       "      <th>9</th>\n",
       "      <td>Data Analyst -M&amp;T</td>\n",
       "      <td>Bangalore/Bengaluru</td>\n",
       "      <td>Accolite Software India Pvt Ltd</td>\n",
       "      <td>5-7 Yrs</td>\n",
       "    </tr>\n",
       "  </tbody>\n",
       "</table>\n",
       "</div>"
      ],
      "text/plain": [
       "                                           Job-title  \\\n",
       "0                                  Tech Data Analyst   \n",
       "1                                       Data Analyst   \n",
       "2  K12 Techno Services - Data Analyst - IIM/ISB/M...   \n",
       "3                                       Data Analyst   \n",
       "4    Hiring For Data Analyst-Bangalore-Contract role   \n",
       "5                                       Data Analyst   \n",
       "6                                       Data Analyst   \n",
       "7                                       Data Analyst   \n",
       "8                                       Data Analyst   \n",
       "9                                  Data Analyst -M&T   \n",
       "\n",
       "                                         Location  \\\n",
       "0  Hybrid - Bangalore/Bengaluru, Gurgaon/Gurugram   \n",
       "1                             Bangalore/Bengaluru   \n",
       "2                             Bangalore/Bengaluru   \n",
       "3                             Bangalore/Bengaluru   \n",
       "4                             Bangalore/Bengaluru   \n",
       "5                    Bangalore/Bengaluru, Kolkata   \n",
       "6                    Hybrid - Bangalore/Bengaluru   \n",
       "7                             Bangalore/Bengaluru   \n",
       "8                             Bangalore/Bengaluru   \n",
       "9                             Bangalore/Bengaluru   \n",
       "\n",
       "                      Company Name Experience  \n",
       "0                            Wipro    4-7 Yrs  \n",
       "1                   Enrich Talents    0-4 Yrs  \n",
       "2              K12 Techno Services    4-9 Yrs  \n",
       "3                      Freshtohome    1-4 Yrs  \n",
       "4                Persolkelly India    2-5 Yrs  \n",
       "5           Anthroplace Consulting    2-6 Yrs  \n",
       "6                    Allegis Group    6-8 Yrs  \n",
       "7                     Novel Office    0-2 Yrs  \n",
       "8            VN2 Solutions Pvt Ltd    0-4 Yrs  \n",
       "9  Accolite Software India Pvt Ltd    5-7 Yrs  "
      ]
     },
     "execution_count": 185,
     "metadata": {},
     "output_type": "execute_result"
    }
   ],
   "source": [
    "naukri=pd.DataFrame({'Job-title':title, 'Location':location, 'Company Name':company, 'Experience':exp})\n",
    "naukri[0:10]"
   ]
  },
  {
   "cell_type": "markdown",
   "id": "94e37732",
   "metadata": {},
   "source": [
    "Q2:Write a python program to scrape data for “Data Scientist” Job position in “Bangalore” location. You \n",
    "have to scrape the job-title, job-location, company_name. You have to scrape first 10 jobs data.\n",
    "This task will be done in following steps:\n",
    "1. First get the webpage https://www.naukri.com/\n",
    "2. Enter “Data Scientist” in “Skill, Designations, Companies” field and enter “Bangalore” in “enter the \n",
    "location” field.\n",
    "3. Then click the searchbutton.\n",
    "4. Then scrape the data for the first 10 jobs results youget.\n",
    "5. Finally create a dataframe of the scraped data.\n"
   ]
  },
  {
   "cell_type": "code",
   "execution_count": 187,
   "id": "6e038711",
   "metadata": {},
   "outputs": [],
   "source": [
    "driver=webdriver.Chrome(r\"D:\\Data Science\\chromedriver_win32.zip\\chromedriver.exe\")"
   ]
  },
  {
   "cell_type": "code",
   "execution_count": 188,
   "id": "5fc04c8a",
   "metadata": {},
   "outputs": [],
   "source": [
    "url=\"https://www.naukri.com/\"\n",
    "driver.get(url)"
   ]
  },
  {
   "cell_type": "code",
   "execution_count": 189,
   "id": "162f66d8",
   "metadata": {},
   "outputs": [],
   "source": [
    "search = driver.find_element(By.CLASS_NAME,\"suggestor-input \")\n",
    "button = driver.find_element(By.XPATH,'/html/body/div[1]/div[7]/div/div/div[6]')\n",
    "search.send_keys('Data Scientist')  \n",
    "button.click()"
   ]
  },
  {
   "cell_type": "code",
   "execution_count": 191,
   "id": "23ed02b5",
   "metadata": {},
   "outputs": [],
   "source": [
    "loc = driver.find_element(By.XPATH,'/html/body/div[1]/div[4]/div/div/section[2]/div[2]/article[1]/div[1]/ul/li[3]')\n",
    "loc.click()"
   ]
  },
  {
   "cell_type": "code",
   "execution_count": 192,
   "id": "1fe52207",
   "metadata": {},
   "outputs": [],
   "source": [
    "sal = driver.find_element(By.XPATH,'/html/body/div[1]/div[4]/div/div/section[2]/div[2]/article[1]/div[1]/ul/li[2]/span[1]')\n",
    "sal.click()"
   ]
  },
  {
   "cell_type": "code",
   "execution_count": null,
   "id": "c58f87ff",
   "metadata": {},
   "outputs": [],
   "source": [
    "title = []\n",
    "for i in driver.find_elements(By.XPATH,'//a[@class=\"title ellipsis\"]'):\n",
    "    title.append(i.text)"
   ]
  },
  {
   "cell_type": "code",
   "execution_count": null,
   "id": "2843a82b",
   "metadata": {},
   "outputs": [],
   "source": [
    "location = []\n",
    "for i in driver.find_elements(By.XPATH,'//li[@class=\"fleft br2 placeHolderLi location\"]'):\n",
    "    location.append(i.text)"
   ]
  },
  {
   "cell_type": "code",
   "execution_count": null,
   "id": "81a74cf2",
   "metadata": {},
   "outputs": [],
   "source": [
    "company = []\n",
    "for i in driver.find_elements(By.XPATH,'//a[@class=\"subTitle ellipsis fleft\"]'):\n",
    "    company.append(i.text)"
   ]
  },
  {
   "cell_type": "code",
   "execution_count": null,
   "id": "bef4da50",
   "metadata": {},
   "outputs": [],
   "source": [
    "exp = []\n",
    "for i in driver.find_elements(By.XPATH,'//li[@class=\"fleft br2 placeHolderLi experience\"]'):\n",
    "    exp.append(i.text)"
   ]
  },
  {
   "cell_type": "code",
   "execution_count": null,
   "id": "e22cd142",
   "metadata": {},
   "outputs": [],
   "source": [
    "nauk = pd.DataFrame({'Job-title':title, 'Location':location, 'Company Name':company, 'Experience':exp})\n",
    "nauk[0:10]"
   ]
  },
  {
   "cell_type": "markdown",
   "id": "fb1c7425",
   "metadata": {},
   "source": [
    "Scrape data of first 100 sunglasses listings on flipkart.com. You have to scrape four attributes:\n",
    "1. Brand\n",
    "2. ProductDescription\n",
    "3. Price\n",
    "The attributes which you have to scrape is ticked marked in the below image.\n",
    "To scrape the data you have to go through following steps:\n",
    "1. Go to Flipkart webpage by url :https://www.flipkart.com/\n",
    "2. Enter “sunglasses” in the search field where “search for products, brands and more” is written and \n",
    "click the search icon\n",
    "3. After that you will reach to the page having a lot of sunglasses. From this page you can scrap the \n",
    "required data asusual\n",
    "4. After scraping data from the first page, go to the “Next” Button at the bottom other page , then\n",
    "click on it.\n",
    "5. Now scrape data from this page asusual\n",
    "6. Repeat this until you get data for 100sunglasses."
   ]
  },
  {
   "cell_type": "code",
   "execution_count": 52,
   "id": "dea9643f",
   "metadata": {},
   "outputs": [],
   "source": [
    "flip = webdriver.Chrome(r\"D:\\Data Science\\chromedriver_win32.zip\\chromedriver.exe\")\n",
    "flip.get('https://www.flipkart.com/')"
   ]
  },
  {
   "cell_type": "code",
   "execution_count": 53,
   "id": "5142f43d",
   "metadata": {},
   "outputs": [],
   "source": [
    "close = flip.find_element(By.XPATH,'/html/body/div[2]/div/div/button')\n",
    "close.click()"
   ]
  },
  {
   "cell_type": "code",
   "execution_count": 54,
   "id": "b5742bef",
   "metadata": {},
   "outputs": [],
   "source": [
    "search = flip.find_element(By.CLASS_NAME,\"_3704LK\")\n",
    "search.send_keys('sunglasses')\n",
    "search.submit()"
   ]
  },
  {
   "cell_type": "code",
   "execution_count": 55,
   "id": "67d3536d",
   "metadata": {},
   "outputs": [],
   "source": [
    "brand = []\n",
    "for i in flip.find_elements(By.XPATH,'//div[@class=\"_2WkVRV\"]'):\n",
    "    brand.append(i.text)"
   ]
  },
  {
   "cell_type": "code",
   "execution_count": 56,
   "id": "5ab060f3",
   "metadata": {},
   "outputs": [],
   "source": [
    "descrp = []\n",
    "for i in flip.find_elements(By.CLASS_NAME,'IRpwTa'):\n",
    "    descrp.append(i.text)"
   ]
  },
  {
   "cell_type": "code",
   "execution_count": 57,
   "id": "955c192c",
   "metadata": {},
   "outputs": [],
   "source": [
    "price = []\n",
    "for i in flip.find_elements(By.CLASS_NAME,'_30jeq3'):\n",
    "    price.append(i.text)"
   ]
  },
  {
   "cell_type": "code",
   "execution_count": 58,
   "id": "3fb86a4f",
   "metadata": {},
   "outputs": [],
   "source": [
    "off = []\n",
    "for i in flip.find_elements(By.CLASS_NAME,'_3Ay6Sb'):\n",
    "    off.append(i.text)"
   ]
  },
  {
   "cell_type": "code",
   "execution_count": 59,
   "id": "9e268ffd",
   "metadata": {},
   "outputs": [
    {
     "data": {
      "text/plain": [
       "(40, 40, 45, 45)"
      ]
     },
     "execution_count": 59,
     "metadata": {},
     "output_type": "execute_result"
    }
   ],
   "source": [
    "len(brand),len(descrp),len(price),len(off)"
   ]
  },
  {
   "cell_type": "code",
   "execution_count": 60,
   "id": "08fff3ee",
   "metadata": {},
   "outputs": [],
   "source": [
    "nex = flip.find_element(By.XPATH,'/html/body/div[1]/div/div[3]/div[1]/div[2]/div[12]/div/div/nav/a[11]/span')\n",
    "nex.click()"
   ]
  },
  {
   "cell_type": "code",
   "execution_count": 61,
   "id": "80884f58",
   "metadata": {},
   "outputs": [],
   "source": [
    "for i in flip.find_elements(By.XPATH,'//div[@class=\"_2WkVRV\"]'):\n",
    "    brand.append(i.text)"
   ]
  },
  {
   "cell_type": "code",
   "execution_count": 62,
   "id": "2f062b0c",
   "metadata": {},
   "outputs": [],
   "source": [
    "for i in flip.find_elements(By.CLASS_NAME,\"IRpwTa\"):\n",
    "    descrp.append(i.text)"
   ]
  },
  {
   "cell_type": "code",
   "execution_count": 63,
   "id": "5f6b4045",
   "metadata": {},
   "outputs": [],
   "source": [
    "for i in flip.find_elements(By.CLASS_NAME,'_30jeq3'):\n",
    "    price.append(i.text)"
   ]
  },
  {
   "cell_type": "code",
   "execution_count": 64,
   "id": "aed4655e",
   "metadata": {},
   "outputs": [],
   "source": [
    "for i in flip.find_elements(By.CLASS_NAME,'_3Ay6Sb'):\n",
    "    off.append(i.text)"
   ]
  },
  {
   "cell_type": "code",
   "execution_count": 65,
   "id": "84fbb630",
   "metadata": {},
   "outputs": [
    {
     "data": {
      "text/plain": [
       "(80, 80, 90, 90)"
      ]
     },
     "execution_count": 65,
     "metadata": {},
     "output_type": "execute_result"
    }
   ],
   "source": [
    "len(brand),len(descrp),len(price),len(off)"
   ]
  },
  {
   "cell_type": "code",
   "execution_count": 66,
   "id": "c9f2cc3f",
   "metadata": {},
   "outputs": [],
   "source": [
    "ne = flip.find_element(By.XPATH,'/html/body/div[1]/div/div[3]/div[1]/div[2]/div[12]/div/div/nav/a[12]/span')\n",
    "ne.click()"
   ]
  },
  {
   "cell_type": "code",
   "execution_count": 67,
   "id": "c0da1c3f",
   "metadata": {},
   "outputs": [],
   "source": [
    "for i in flip.find_elements(By.XPATH,'//div[@class=\"_2WkVRV\"]'):\n",
    "    brand.append(i.text)"
   ]
  },
  {
   "cell_type": "code",
   "execution_count": 69,
   "id": "c1b28c75",
   "metadata": {},
   "outputs": [],
   "source": [
    "for i in flip.find_elements(By.CLASS_NAME,'_IRpwTa'):\n",
    "    descrp.append(i.text)"
   ]
  },
  {
   "cell_type": "code",
   "execution_count": 70,
   "id": "a181f910",
   "metadata": {},
   "outputs": [],
   "source": [
    "for i in flip.find_elements(By.CLASS_NAME,'_30jeq3'):\n",
    "    price.append(i.text)"
   ]
  },
  {
   "cell_type": "code",
   "execution_count": 71,
   "id": "b698d80a",
   "metadata": {},
   "outputs": [],
   "source": [
    "for i in flip.find_elements(By.CLASS_NAME,'_3Ay6Sb'):\n",
    "    off.append(i.text)"
   ]
  },
  {
   "cell_type": "code",
   "execution_count": 72,
   "id": "79da6544",
   "metadata": {},
   "outputs": [
    {
     "data": {
      "text/plain": [
       "(120, 109, 135, 135)"
      ]
     },
     "execution_count": 72,
     "metadata": {},
     "output_type": "execute_result"
    }
   ],
   "source": [
    "len(brand),len(descrp),len(price),len(off)"
   ]
  },
  {
   "cell_type": "code",
   "execution_count": 73,
   "id": "2f780b55",
   "metadata": {},
   "outputs": [
    {
     "data": {
      "text/html": [
       "<div>\n",
       "<style scoped>\n",
       "    .dataframe tbody tr th:only-of-type {\n",
       "        vertical-align: middle;\n",
       "    }\n",
       "\n",
       "    .dataframe tbody tr th {\n",
       "        vertical-align: top;\n",
       "    }\n",
       "\n",
       "    .dataframe thead th {\n",
       "        text-align: right;\n",
       "    }\n",
       "</style>\n",
       "<table border=\"1\" class=\"dataframe\">\n",
       "  <thead>\n",
       "    <tr style=\"text-align: right;\">\n",
       "      <th></th>\n",
       "      <th>Brand Name</th>\n",
       "      <th>Decription</th>\n",
       "      <th>Price</th>\n",
       "      <th>Offer</th>\n",
       "    </tr>\n",
       "  </thead>\n",
       "  <tbody>\n",
       "    <tr>\n",
       "      <th>0</th>\n",
       "      <td>OAKLEY</td>\n",
       "      <td>Latch Beta Retro Square Sunglass</td>\n",
       "      <td>₹6,149</td>\n",
       "      <td>30% off</td>\n",
       "    </tr>\n",
       "    <tr>\n",
       "      <th>1</th>\n",
       "      <td>OAKLEY</td>\n",
       "      <td>Rectangular Sunglass</td>\n",
       "      <td>₹4,819</td>\n",
       "      <td>30% off</td>\n",
       "    </tr>\n",
       "    <tr>\n",
       "      <th>2</th>\n",
       "      <td>Fastrack</td>\n",
       "      <td>UV Protection Rectangular Sunglasses (Free Size)</td>\n",
       "      <td>₹559</td>\n",
       "      <td>30% off</td>\n",
       "    </tr>\n",
       "    <tr>\n",
       "      <th>3</th>\n",
       "      <td>Fastrack</td>\n",
       "      <td>Gradient, UV Protection Wayfarer Sunglasses (F...</td>\n",
       "      <td>₹629</td>\n",
       "      <td>30% off</td>\n",
       "    </tr>\n",
       "    <tr>\n",
       "      <th>4</th>\n",
       "      <td>NuVew</td>\n",
       "      <td>UV Protection, Mirrored Wayfarer Sunglasses (57)</td>\n",
       "      <td>₹99</td>\n",
       "      <td>88% off</td>\n",
       "    </tr>\n",
       "    <tr>\n",
       "      <th>...</th>\n",
       "      <td>...</td>\n",
       "      <td>...</td>\n",
       "      <td>...</td>\n",
       "      <td>...</td>\n",
       "    </tr>\n",
       "    <tr>\n",
       "      <th>95</th>\n",
       "      <td>ROZZETTA CRAFT</td>\n",
       "      <td>Polarized, UV Protection Wayfarer Sunglasses (...</td>\n",
       "      <td>₹108</td>\n",
       "      <td>87% off</td>\n",
       "    </tr>\n",
       "    <tr>\n",
       "      <th>96</th>\n",
       "      <td>Fastrack</td>\n",
       "      <td>UV Protection Wayfarer Sunglasses (58)</td>\n",
       "      <td>₹629</td>\n",
       "      <td>30% off</td>\n",
       "    </tr>\n",
       "    <tr>\n",
       "      <th>97</th>\n",
       "      <td>PIRASO</td>\n",
       "      <td>UV Protection Rectangular Sunglasses (52)</td>\n",
       "      <td>₹5,239</td>\n",
       "      <td>30% off</td>\n",
       "    </tr>\n",
       "    <tr>\n",
       "      <th>98</th>\n",
       "      <td>VINCENT CHASE</td>\n",
       "      <td>Polarized, UV Protection Round Sunglasses (50)</td>\n",
       "      <td>₹173</td>\n",
       "      <td>89% off</td>\n",
       "    </tr>\n",
       "    <tr>\n",
       "      <th>99</th>\n",
       "      <td>ROYAL SON</td>\n",
       "      <td>Polarized Aviator Sunglasses (57)</td>\n",
       "      <td>₹699</td>\n",
       "      <td>65% off</td>\n",
       "    </tr>\n",
       "  </tbody>\n",
       "</table>\n",
       "<p>100 rows × 4 columns</p>\n",
       "</div>"
      ],
      "text/plain": [
       "        Brand Name                                         Decription   Price  \\\n",
       "0           OAKLEY                   Latch Beta Retro Square Sunglass  ₹6,149   \n",
       "1           OAKLEY                               Rectangular Sunglass  ₹4,819   \n",
       "2         Fastrack   UV Protection Rectangular Sunglasses (Free Size)    ₹559   \n",
       "3         Fastrack  Gradient, UV Protection Wayfarer Sunglasses (F...    ₹629   \n",
       "4            NuVew   UV Protection, Mirrored Wayfarer Sunglasses (57)     ₹99   \n",
       "..             ...                                                ...     ...   \n",
       "95  ROZZETTA CRAFT  Polarized, UV Protection Wayfarer Sunglasses (...    ₹108   \n",
       "96        Fastrack             UV Protection Wayfarer Sunglasses (58)    ₹629   \n",
       "97          PIRASO          UV Protection Rectangular Sunglasses (52)  ₹5,239   \n",
       "98   VINCENT CHASE     Polarized, UV Protection Round Sunglasses (50)    ₹173   \n",
       "99       ROYAL SON                  Polarized Aviator Sunglasses (57)    ₹699   \n",
       "\n",
       "      Offer  \n",
       "0   30% off  \n",
       "1   30% off  \n",
       "2   30% off  \n",
       "3   30% off  \n",
       "4   88% off  \n",
       "..      ...  \n",
       "95  87% off  \n",
       "96  30% off  \n",
       "97  30% off  \n",
       "98  89% off  \n",
       "99  65% off  \n",
       "\n",
       "[100 rows x 4 columns]"
      ]
     },
     "execution_count": 73,
     "metadata": {},
     "output_type": "execute_result"
    }
   ],
   "source": [
    "flipkart = pd.DataFrame({'Brand Name':brand[0:100], \"Decription\":descrp[0:100], 'Price':price[0:100], 'Offer':off[0:100]})\n",
    "flipkart"
   ]
  },
  {
   "cell_type": "markdown",
   "id": "f3352b1f",
   "metadata": {},
   "source": [
    "Scrape 100 reviews data from flipkart.com for iphone11 phone.\n",
    "These are:\n",
    "1. Rating\n",
    "2. Review summary\n",
    "3. Full review\n",
    "4. You have to scrape this data for first 100reviews.\n"
   ]
  },
  {
   "cell_type": "code",
   "execution_count": null,
   "id": "ec1f05ca",
   "metadata": {},
   "outputs": [],
   "source": [
    "home = flip.find_element(By.XPATH,'/html/body/div[1]/div/div[1]/div[1]/div[2]/div[1]/div/a[1]/img')\n",
    "home.click()"
   ]
  },
  {
   "cell_type": "code",
   "execution_count": 75,
   "id": "2e70168e",
   "metadata": {},
   "outputs": [],
   "source": [
    "search = flip.find_element(By.CLASS_NAME,\"_3704LK\")\n",
    "search.send_keys('iphone 11')\n",
    "search.submit()"
   ]
  },
  {
   "cell_type": "code",
   "execution_count": 77,
   "id": "12ac40e3",
   "metadata": {},
   "outputs": [],
   "source": [
    "iphone = flip.find_element(By.XPATH,'/html/body/div[1]/div/div[3]/div[1]/div[2]/div[2]/div/div/div/a/div[2]/div[1]/div/div/img')\n",
    "iphone.click()"
   ]
  },
  {
   "cell_type": "code",
   "execution_count": 78,
   "id": "d1391915",
   "metadata": {},
   "outputs": [],
   "source": [
    "d = flip.window_handles[1]\n",
    "flip.switch_to.window(d)"
   ]
  },
  {
   "cell_type": "code",
   "execution_count": 80,
   "id": "eae9acb8",
   "metadata": {},
   "outputs": [],
   "source": [
    "all_re = flip.find_element(By.XPATH,'/html/body/div[1]/div/div[3]/div[1]/div[2]/div[9]/div[7]/div/div[4]/div[1]/div/div/div[1]/p')\n",
    "all_re.click()"
   ]
  },
  {
   "cell_type": "code",
   "execution_count": 81,
   "id": "d15e07cd",
   "metadata": {},
   "outputs": [],
   "source": [
    "star = []\n",
    "comm = []\n",
    "bri = []\n",
    "for page in range(0,10):\n",
    "    for i in flip.find_elements(By.XPATH,'//div[@class=\"_3LWZlK _1BLPMq\"]'):\n",
    "        star.append(i.text)\n",
    "        \n",
    "    for i in flip.find_elements(By.XPATH,'//p[@class=\"_2-N8zT\"]'):\n",
    "        comm.append(i.text)\n",
    "    \n",
    "    for i in flip.find_elements(By.XPATH,'//div[@class = \"t-ZTKy\"]'):\n",
    "        bri.append(i.text)"
   ]
  },
  {
   "cell_type": "code",
   "execution_count": 82,
   "id": "0376f984",
   "metadata": {},
   "outputs": [
    {
     "data": {
      "text/html": [
       "<div>\n",
       "<style scoped>\n",
       "    .dataframe tbody tr th:only-of-type {\n",
       "        vertical-align: middle;\n",
       "    }\n",
       "\n",
       "    .dataframe tbody tr th {\n",
       "        vertical-align: top;\n",
       "    }\n",
       "\n",
       "    .dataframe thead th {\n",
       "        text-align: right;\n",
       "    }\n",
       "</style>\n",
       "<table border=\"1\" class=\"dataframe\">\n",
       "  <thead>\n",
       "    <tr style=\"text-align: right;\">\n",
       "      <th></th>\n",
       "      <th>Star</th>\n",
       "      <th>Comments</th>\n",
       "      <th>Brief</th>\n",
       "    </tr>\n",
       "  </thead>\n",
       "  <tbody>\n",
       "    <tr>\n",
       "      <th>0</th>\n",
       "      <td>5</td>\n",
       "      <td>Simply awesome</td>\n",
       "      <td>Really satisfied with the Product I received.....</td>\n",
       "    </tr>\n",
       "    <tr>\n",
       "      <th>1</th>\n",
       "      <td>5</td>\n",
       "      <td>Perfect product!</td>\n",
       "      <td>Amazing phone with great cameras and better ba...</td>\n",
       "    </tr>\n",
       "    <tr>\n",
       "      <th>2</th>\n",
       "      <td>5</td>\n",
       "      <td>Best in the market!</td>\n",
       "      <td>Great iPhone very snappy experience as apple k...</td>\n",
       "    </tr>\n",
       "    <tr>\n",
       "      <th>3</th>\n",
       "      <td></td>\n",
       "      <td></td>\n",
       "      <td></td>\n",
       "    </tr>\n",
       "    <tr>\n",
       "      <th>4</th>\n",
       "      <td></td>\n",
       "      <td></td>\n",
       "      <td></td>\n",
       "    </tr>\n",
       "    <tr>\n",
       "      <th>...</th>\n",
       "      <td>...</td>\n",
       "      <td>...</td>\n",
       "      <td>...</td>\n",
       "    </tr>\n",
       "    <tr>\n",
       "      <th>95</th>\n",
       "      <td></td>\n",
       "      <td></td>\n",
       "      <td></td>\n",
       "    </tr>\n",
       "    <tr>\n",
       "      <th>96</th>\n",
       "      <td></td>\n",
       "      <td></td>\n",
       "      <td></td>\n",
       "    </tr>\n",
       "    <tr>\n",
       "      <th>97</th>\n",
       "      <td></td>\n",
       "      <td></td>\n",
       "      <td></td>\n",
       "    </tr>\n",
       "    <tr>\n",
       "      <th>98</th>\n",
       "      <td></td>\n",
       "      <td></td>\n",
       "      <td></td>\n",
       "    </tr>\n",
       "    <tr>\n",
       "      <th>99</th>\n",
       "      <td></td>\n",
       "      <td></td>\n",
       "      <td></td>\n",
       "    </tr>\n",
       "  </tbody>\n",
       "</table>\n",
       "<p>100 rows × 3 columns</p>\n",
       "</div>"
      ],
      "text/plain": [
       "   Star             Comments  \\\n",
       "0     5       Simply awesome   \n",
       "1     5     Perfect product!   \n",
       "2     5  Best in the market!   \n",
       "3                              \n",
       "4                              \n",
       "..  ...                  ...   \n",
       "95                             \n",
       "96                             \n",
       "97                             \n",
       "98                             \n",
       "99                             \n",
       "\n",
       "                                                Brief  \n",
       "0   Really satisfied with the Product I received.....  \n",
       "1   Amazing phone with great cameras and better ba...  \n",
       "2   Great iPhone very snappy experience as apple k...  \n",
       "3                                                      \n",
       "4                                                      \n",
       "..                                                ...  \n",
       "95                                                     \n",
       "96                                                     \n",
       "97                                                     \n",
       "98                                                     \n",
       "99                                                     \n",
       "\n",
       "[100 rows x 3 columns]"
      ]
     },
     "execution_count": 82,
     "metadata": {},
     "output_type": "execute_result"
    }
   ],
   "source": [
    "phone = pd.DataFrame({'Star':star, 'Comments':comm, 'Brief':bri})\n",
    "phone"
   ]
  },
  {
   "cell_type": "markdown",
   "id": "3bf5322b",
   "metadata": {},
   "source": [
    " Scrape data for first 100 sneakers you find when you visit flipkart.com and search for “sneakers” in the search field.\n",
    "You have to scrape 4 attributes of each sneaker:\n",
    "1. Brand\n",
    "2. Product Description\n",
    "3. Price"
   ]
  },
  {
   "cell_type": "code",
   "execution_count": 83,
   "id": "78c2faf9",
   "metadata": {},
   "outputs": [],
   "source": [
    "flip = webdriver.Chrome(r\"D:\\Data Science\\chromedriver_win32.zip\\chromedriver.exe\")\n",
    "flip.get('https://www.flipkart.com/')"
   ]
  },
  {
   "cell_type": "code",
   "execution_count": 84,
   "id": "d2638348",
   "metadata": {},
   "outputs": [],
   "source": [
    "close = flip.find_element(By.XPATH,'/html/body/div[2]/div/div/button')\n",
    "close.click()"
   ]
  },
  {
   "cell_type": "code",
   "execution_count": 85,
   "id": "efd43260",
   "metadata": {},
   "outputs": [],
   "source": [
    "home = flip.find_element(By.XPATH,'/html/body/div[1]/div/div[1]/div[1]/div[2]/div[2]/form/div/button')\n",
    "home.click()"
   ]
  },
  {
   "cell_type": "code",
   "execution_count": 86,
   "id": "1b86eaa9",
   "metadata": {},
   "outputs": [],
   "source": [
    "search = flip.find_element(By.CLASS_NAME,\"_3704LK\")\n",
    "search.send_keys('sneakers')\n",
    "search.submit()"
   ]
  },
  {
   "cell_type": "code",
   "execution_count": 87,
   "id": "75a03d21",
   "metadata": {},
   "outputs": [],
   "source": [
    "name,des,pir,off = [],[],[],[]\n",
    "for page in range(0,3):\n",
    "    for i in flip.find_elements(By.CLASS_NAME,'_2WkVRV'):\n",
    "        name.append(i.text)\n",
    "    \n",
    "    for i in flip.find_elements(By.CLASS_NAME,'IRpwTa'):\n",
    "        des.append(i.text)\n",
    "        \n",
    "    for i in flip.find_elements(By.XPATH,'//div[@class = \"_30jeq3\"]'):\n",
    "        pir.append(i.text)\n",
    "    \n",
    "    for i in flip.find_elements(By.CLASS_NAME,'_3Ay6Sb'):\n",
    "        off.append(i.text)"
   ]
  },
  {
   "cell_type": "code",
   "execution_count": 88,
   "id": "52926260",
   "metadata": {},
   "outputs": [
    {
     "data": {
      "text/plain": [
       "(120, 120, 120, 135)"
      ]
     },
     "execution_count": 88,
     "metadata": {},
     "output_type": "execute_result"
    }
   ],
   "source": [
    "len(name),len(des),len(pir),len(off)"
   ]
  },
  {
   "cell_type": "code",
   "execution_count": 89,
   "id": "c4c3e720",
   "metadata": {},
   "outputs": [
    {
     "data": {
      "text/html": [
       "<div>\n",
       "<style scoped>\n",
       "    .dataframe tbody tr th:only-of-type {\n",
       "        vertical-align: middle;\n",
       "    }\n",
       "\n",
       "    .dataframe tbody tr th {\n",
       "        vertical-align: top;\n",
       "    }\n",
       "\n",
       "    .dataframe thead th {\n",
       "        text-align: right;\n",
       "    }\n",
       "</style>\n",
       "<table border=\"1\" class=\"dataframe\">\n",
       "  <thead>\n",
       "    <tr style=\"text-align: right;\">\n",
       "      <th></th>\n",
       "      <th>Brand</th>\n",
       "      <th>Product Description</th>\n",
       "      <th>Price and Offer</th>\n",
       "    </tr>\n",
       "  </thead>\n",
       "  <tbody>\n",
       "    <tr>\n",
       "      <th>0</th>\n",
       "      <td>BIRDE</td>\n",
       "      <td>Premium White Sneakers For women Sneakers For ...</td>\n",
       "      <td>₹249 and 75% off</td>\n",
       "    </tr>\n",
       "    <tr>\n",
       "      <th>1</th>\n",
       "      <td>RapidBox</td>\n",
       "      <td>Sneakers For Men</td>\n",
       "      <td>₹569 and 43% off</td>\n",
       "    </tr>\n",
       "    <tr>\n",
       "      <th>2</th>\n",
       "      <td>SFR</td>\n",
       "      <td>Sneakers For Men</td>\n",
       "      <td>₹279 and 60% off</td>\n",
       "    </tr>\n",
       "    <tr>\n",
       "      <th>3</th>\n",
       "      <td>BRUTON</td>\n",
       "      <td>Canvas shoes for Men Sneakers For Men</td>\n",
       "      <td>₹249 and 80% off</td>\n",
       "    </tr>\n",
       "    <tr>\n",
       "      <th>4</th>\n",
       "      <td>Sparx</td>\n",
       "      <td>Men White Sneakers Sneakers For Men</td>\n",
       "      <td>₹674 and 25% off</td>\n",
       "    </tr>\n",
       "    <tr>\n",
       "      <th>...</th>\n",
       "      <td>...</td>\n",
       "      <td>...</td>\n",
       "      <td>...</td>\n",
       "    </tr>\n",
       "    <tr>\n",
       "      <th>95</th>\n",
       "      <td>RapidBox</td>\n",
       "      <td>Sneakers For Men</td>\n",
       "      <td>₹569 and 77% off</td>\n",
       "    </tr>\n",
       "    <tr>\n",
       "      <th>96</th>\n",
       "      <td>BERSACHE</td>\n",
       "      <td>Casual Shoes For Men Waliking,Sneakers,Loafers...</td>\n",
       "      <td>₹178 and 69% off</td>\n",
       "    </tr>\n",
       "    <tr>\n",
       "      <th>97</th>\n",
       "      <td>BIRDE</td>\n",
       "      <td>Trendy Casual Shoe For Men Pack Of 2 Sneakers ...</td>\n",
       "      <td>₹499 and 43% off</td>\n",
       "    </tr>\n",
       "    <tr>\n",
       "      <th>98</th>\n",
       "      <td>aadi</td>\n",
       "      <td>Synthetic Leather |Lightweight|Comfort|Summer|...</td>\n",
       "      <td>₹349 and 62% off</td>\n",
       "    </tr>\n",
       "    <tr>\n",
       "      <th>99</th>\n",
       "      <td>Sparx</td>\n",
       "      <td>SM-641 Sneakers For Men</td>\n",
       "      <td>₹1,149 and 65% off</td>\n",
       "    </tr>\n",
       "  </tbody>\n",
       "</table>\n",
       "<p>100 rows × 3 columns</p>\n",
       "</div>"
      ],
      "text/plain": [
       "       Brand                                Product Description  \\\n",
       "0      BIRDE  Premium White Sneakers For women Sneakers For ...   \n",
       "1   RapidBox                                   Sneakers For Men   \n",
       "2        SFR                                   Sneakers For Men   \n",
       "3     BRUTON              Canvas shoes for Men Sneakers For Men   \n",
       "4      Sparx                Men White Sneakers Sneakers For Men   \n",
       "..       ...                                                ...   \n",
       "95  RapidBox                                   Sneakers For Men   \n",
       "96  BERSACHE  Casual Shoes For Men Waliking,Sneakers,Loafers...   \n",
       "97     BIRDE  Trendy Casual Shoe For Men Pack Of 2 Sneakers ...   \n",
       "98      aadi  Synthetic Leather |Lightweight|Comfort|Summer|...   \n",
       "99     Sparx                            SM-641 Sneakers For Men   \n",
       "\n",
       "       Price and Offer  \n",
       "0     ₹249 and 75% off  \n",
       "1     ₹569 and 43% off  \n",
       "2     ₹279 and 60% off  \n",
       "3     ₹249 and 80% off  \n",
       "4     ₹674 and 25% off  \n",
       "..                 ...  \n",
       "95    ₹569 and 77% off  \n",
       "96    ₹178 and 69% off  \n",
       "97    ₹499 and 43% off  \n",
       "98    ₹349 and 62% off  \n",
       "99  ₹1,149 and 65% off  \n",
       "\n",
       "[100 rows x 3 columns]"
      ]
     },
     "execution_count": 89,
     "metadata": {},
     "output_type": "execute_result"
    }
   ],
   "source": [
    "sneaker = pd.DataFrame({'Brand':name[0:100], 'Product Description':des[0:100], 'Price':pir[0:100], 'Offer':off[0:100]})\n",
    "sneaker['Price and Offer'] = sneaker['Price'] +' and ' + sneaker['Offer']\n",
    "sneaker.drop(columns = ['Price','Offer'],inplace=True)\n",
    "sneaker"
   ]
  },
  {
   "cell_type": "markdown",
   "id": "98a32bea",
   "metadata": {},
   "source": [
    "Go to webpage https://www.amazon.in/ Enter “Laptop” in the search field and then click the search icon. Then \n",
    "set CPU Type filter to “Intel Core i7” as shown in the below image:\n",
    "    After setting the filters scrape first 10 laptops data. You have to scrape 3 attributes for each laptop:\n",
    "1. Title\n",
    "2. Ratings\n",
    "3. Price"
   ]
  },
  {
   "cell_type": "code",
   "execution_count": 90,
   "id": "89198aaa",
   "metadata": {},
   "outputs": [],
   "source": [
    "driver = webdriver.Chrome(r\"D:\\Data Science\\chromedriver_win32.zip\\chromedriver.exe\")\n",
    "driver.get('https://www.amazon.in/')"
   ]
  },
  {
   "cell_type": "code",
   "execution_count": 93,
   "id": "7a6058ca",
   "metadata": {},
   "outputs": [],
   "source": [
    "search = driver.find_element(By.XPATH,'/html/body/div[1]/header/div/div[1]/div[2]/div/form/div[2]/div[1]/input')\n",
    "search.send_keys('laptop')\n",
    "search.submit()"
   ]
  },
  {
   "cell_type": "code",
   "execution_count": 95,
   "id": "38fd6525",
   "metadata": {},
   "outputs": [],
   "source": [
    "core = driver.find_element(By.XPATH,'/html/body/div[1]/div[2]/div[1]/div[2]/div/div[3]/span/div[1]/div/div/div[6]/ul[6]/li[11]/span/a/span')\n",
    "core.click()"
   ]
  },
  {
   "cell_type": "code",
   "execution_count": 96,
   "id": "d57a85d8",
   "metadata": {},
   "outputs": [],
   "source": [
    "name = []\n",
    "for i in driver.find_elements(By.XPATH,'//a[@class = \"a-link-normal s-underline-text s-underline-link-text s-link-style a-text-normal\"]'):\n",
    "    name.append(i.text)"
   ]
  },
  {
   "cell_type": "code",
   "execution_count": 97,
   "id": "404cf8e1",
   "metadata": {},
   "outputs": [],
   "source": [
    "rate = []\n",
    "for i in driver.find_elements(By.XPATH,'//span[@class = \"a-price-whole\"]'):\n",
    "    rate.append(i.text)\n"
   ]
  },
  {
   "cell_type": "code",
   "execution_count": 98,
   "id": "e863bbc7",
   "metadata": {},
   "outputs": [],
   "source": [
    "ss = []\n",
    "for i in driver.find_elements(By.XPATH,'//span[@class=\"a-size-base s-underline-text\"]'):\n",
    "    ss.append(i.text)"
   ]
  },
  {
   "cell_type": "code",
   "execution_count": 99,
   "id": "7e5f0f93",
   "metadata": {},
   "outputs": [
    {
     "data": {
      "text/plain": [
       "(32, 32, 26)"
      ]
     },
     "execution_count": 99,
     "metadata": {},
     "output_type": "execute_result"
    }
   ],
   "source": [
    "len(rate),len(name),len(ss)"
   ]
  },
  {
   "cell_type": "code",
   "execution_count": 100,
   "id": "f1581490",
   "metadata": {},
   "outputs": [
    {
     "data": {
      "text/html": [
       "<div>\n",
       "<style scoped>\n",
       "    .dataframe tbody tr th:only-of-type {\n",
       "        vertical-align: middle;\n",
       "    }\n",
       "\n",
       "    .dataframe tbody tr th {\n",
       "        vertical-align: top;\n",
       "    }\n",
       "\n",
       "    .dataframe thead th {\n",
       "        text-align: right;\n",
       "    }\n",
       "</style>\n",
       "<table border=\"1\" class=\"dataframe\">\n",
       "  <thead>\n",
       "    <tr style=\"text-align: right;\">\n",
       "      <th></th>\n",
       "      <th>Laptop Name</th>\n",
       "      <th>Price</th>\n",
       "      <th>Rating</th>\n",
       "    </tr>\n",
       "  </thead>\n",
       "  <tbody>\n",
       "    <tr>\n",
       "      <th>0</th>\n",
       "      <td>HP Victus Gaming Latest 12th Gen Intel Core i7...</td>\n",
       "      <td>90,990</td>\n",
       "      <td>(111)</td>\n",
       "    </tr>\n",
       "    <tr>\n",
       "      <th>1</th>\n",
       "      <td>ASUS Vivobook 14, Intel Core i7-1165G7 11th Ge...</td>\n",
       "      <td>56,990</td>\n",
       "      <td>(258)</td>\n",
       "    </tr>\n",
       "    <tr>\n",
       "      <th>2</th>\n",
       "      <td>Dell Inspiron 5320 Laptop, Intel i7-1260P, 16G...</td>\n",
       "      <td>84,590</td>\n",
       "      <td>(9)</td>\n",
       "    </tr>\n",
       "    <tr>\n",
       "      <th>3</th>\n",
       "      <td>(Renewed) Dell Latitude Laptop 7390 Intel Core...</td>\n",
       "      <td>29,990</td>\n",
       "      <td>(90)</td>\n",
       "    </tr>\n",
       "    <tr>\n",
       "      <th>4</th>\n",
       "      <td>Samsung Galaxy Book2 (NP750) Intel 12th Gen co...</td>\n",
       "      <td>79,990</td>\n",
       "      <td>(115)</td>\n",
       "    </tr>\n",
       "    <tr>\n",
       "      <th>5</th>\n",
       "      <td>HP Pavilion Plus, 12th Gen Intel Core i7 16GB ...</td>\n",
       "      <td>96,490</td>\n",
       "      <td>(53)</td>\n",
       "    </tr>\n",
       "    <tr>\n",
       "      <th>6</th>\n",
       "      <td>(Renewed) Lenovo Thinkpad Laptop x270 Intel Co...</td>\n",
       "      <td>29,990</td>\n",
       "      <td>(9)</td>\n",
       "    </tr>\n",
       "    <tr>\n",
       "      <th>7</th>\n",
       "      <td>Hp Pavilion 15 12Th Gen Intel Core I7 16Gb Sdr...</td>\n",
       "      <td>89,990</td>\n",
       "      <td>(13)</td>\n",
       "    </tr>\n",
       "    <tr>\n",
       "      <th>8</th>\n",
       "      <td>(Renewed) Dell Latitude Laptop 7390 Intel Core...</td>\n",
       "      <td>38,990</td>\n",
       "      <td>(49)</td>\n",
       "    </tr>\n",
       "    <tr>\n",
       "      <th>9</th>\n",
       "      <td>ASUS Vivobook S15 OLED 2022, 15.6\" 39.62 cms F...</td>\n",
       "      <td>84,000</td>\n",
       "      <td>(66)</td>\n",
       "    </tr>\n",
       "  </tbody>\n",
       "</table>\n",
       "</div>"
      ],
      "text/plain": [
       "                                         Laptop Name   Price Rating\n",
       "0  HP Victus Gaming Latest 12th Gen Intel Core i7...  90,990  (111)\n",
       "1  ASUS Vivobook 14, Intel Core i7-1165G7 11th Ge...  56,990  (258)\n",
       "2  Dell Inspiron 5320 Laptop, Intel i7-1260P, 16G...  84,590    (9)\n",
       "3  (Renewed) Dell Latitude Laptop 7390 Intel Core...  29,990   (90)\n",
       "4  Samsung Galaxy Book2 (NP750) Intel 12th Gen co...  79,990  (115)\n",
       "5  HP Pavilion Plus, 12th Gen Intel Core i7 16GB ...  96,490   (53)\n",
       "6  (Renewed) Lenovo Thinkpad Laptop x270 Intel Co...  29,990    (9)\n",
       "7  Hp Pavilion 15 12Th Gen Intel Core I7 16Gb Sdr...  89,990   (13)\n",
       "8  (Renewed) Dell Latitude Laptop 7390 Intel Core...  38,990   (49)\n",
       "9  ASUS Vivobook S15 OLED 2022, 15.6\" 39.62 cms F...  84,000   (66)"
      ]
     },
     "execution_count": 100,
     "metadata": {},
     "output_type": "execute_result"
    }
   ],
   "source": [
    "lap = pd.DataFrame({'Laptop Name': name[0:10], 'Price': rate[0:10], 'Rating' : ss[0:10]})\n",
    "lap"
   ]
  },
  {
   "cell_type": "markdown",
   "id": "c0a28a52",
   "metadata": {},
   "source": [
    "Write a python program to scrape data for Top 1000 Quotes of All Time.\n",
    "The above task will be done in following steps:\n",
    "1. First get the webpagehttps://www.azquotes.com/\n",
    "2. Click on TopQuotes\n",
    "3. Than scrap a) Quote b) Author c) Type Of Quotes"
   ]
  },
  {
   "cell_type": "code",
   "execution_count": 126,
   "id": "55dec40d",
   "metadata": {},
   "outputs": [],
   "source": [
    "driver = webdriver.Chrome(r\"D:\\Data Science\\chromedriver_win32.zip\\chromedriver.exe\")\n",
    "driver.get('https://www.azquotes.com/')"
   ]
  },
  {
   "cell_type": "code",
   "execution_count": 138,
   "id": "d4118494",
   "metadata": {},
   "outputs": [],
   "source": [
    "quote=[]\n",
    "author=[]\n",
    "quote_type=[]"
   ]
  },
  {
   "cell_type": "code",
   "execution_count": 139,
   "id": "7f382236",
   "metadata": {},
   "outputs": [],
   "source": [
    "quote_tags=driver.find_elements(By.XPATH,'//a[@class=\"title\"]')\n",
    "for i in quote_tags[0:100]:\n",
    "    tags=i.text\n",
    "    quote.append(tags)\n",
    "    \n",
    "author_tags=driver.find_elements(By.XPATH,'//div[@class=\"author\"]')\n",
    "for i in author_tags[0:100]:\n",
    "    aut=i.text\n",
    "    author.append(aut)\n",
    "    \n",
    "type_tags=driver.find_elements(By.XPATH,'//div[@class=\"tags\"]')\n",
    "for i in type_tags[0:100]:\n",
    "    Q_t=i.text\n",
    "    quote_type.append(Q_t)"
   ]
  },
  {
   "cell_type": "code",
   "execution_count": 140,
   "id": "cd9de9f5",
   "metadata": {},
   "outputs": [
    {
     "name": "stdout",
     "output_type": "stream",
     "text": [
      "100 100 100\n"
     ]
    }
   ],
   "source": [
    "print(len(quote),len(author),len(quote_type))"
   ]
  },
  {
   "cell_type": "code",
   "execution_count": 141,
   "id": "0ac222e4",
   "metadata": {},
   "outputs": [
    {
     "data": {
      "text/html": [
       "<div>\n",
       "<style scoped>\n",
       "    .dataframe tbody tr th:only-of-type {\n",
       "        vertical-align: middle;\n",
       "    }\n",
       "\n",
       "    .dataframe tbody tr th {\n",
       "        vertical-align: top;\n",
       "    }\n",
       "\n",
       "    .dataframe thead th {\n",
       "        text-align: right;\n",
       "    }\n",
       "</style>\n",
       "<table border=\"1\" class=\"dataframe\">\n",
       "  <thead>\n",
       "    <tr style=\"text-align: right;\">\n",
       "      <th></th>\n",
       "      <th>QUOTE</th>\n",
       "      <th>AUTHOR</th>\n",
       "      <th>QUOTE_TYPE</th>\n",
       "    </tr>\n",
       "  </thead>\n",
       "  <tbody>\n",
       "    <tr>\n",
       "      <th>0</th>\n",
       "      <td>The essence of strategy is choosing what not t...</td>\n",
       "      <td>Michael Porter</td>\n",
       "      <td>Essence, Deep Thought, Transcendentalism</td>\n",
       "    </tr>\n",
       "    <tr>\n",
       "      <th>1</th>\n",
       "      <td>One cannot and must not try to erase the past ...</td>\n",
       "      <td>Golda Meir</td>\n",
       "      <td>Inspiration, Past, Trying</td>\n",
       "    </tr>\n",
       "    <tr>\n",
       "      <th>2</th>\n",
       "      <td>Patriotism means to stand by the country. It d...</td>\n",
       "      <td>Theodore Roosevelt</td>\n",
       "      <td>Country, Peace, War</td>\n",
       "    </tr>\n",
       "    <tr>\n",
       "      <th>3</th>\n",
       "      <td>Death is something inevitable. When a man has ...</td>\n",
       "      <td>Nelson Mandela</td>\n",
       "      <td>Inspirational, Motivational, Death</td>\n",
       "    </tr>\n",
       "    <tr>\n",
       "      <th>4</th>\n",
       "      <td>You have to love a nation that celebrates its ...</td>\n",
       "      <td>Erma Bombeck</td>\n",
       "      <td>4th Of July, Food, Patriotic</td>\n",
       "    </tr>\n",
       "    <tr>\n",
       "      <th>...</th>\n",
       "      <td>...</td>\n",
       "      <td>...</td>\n",
       "      <td>...</td>\n",
       "    </tr>\n",
       "    <tr>\n",
       "      <th>95</th>\n",
       "      <td>When the going gets weird, the weird turn pro.</td>\n",
       "      <td>Hunter S. Thompson</td>\n",
       "      <td>Music, Sports, Hunting</td>\n",
       "    </tr>\n",
       "    <tr>\n",
       "      <th>96</th>\n",
       "      <td>When a train goes through a tunnel and it gets...</td>\n",
       "      <td>Corrie Ten Boom</td>\n",
       "      <td>Trust, Encouraging, Uplifting</td>\n",
       "    </tr>\n",
       "    <tr>\n",
       "      <th>97</th>\n",
       "      <td>If you think you are too small to make a diffe...</td>\n",
       "      <td>Dalai Lama</td>\n",
       "      <td>Inspirational, Funny, Change</td>\n",
       "    </tr>\n",
       "    <tr>\n",
       "      <th>98</th>\n",
       "      <td>God doesn't require us to succeed, he only req...</td>\n",
       "      <td>Mother Teresa</td>\n",
       "      <td>Success, God, Mother</td>\n",
       "    </tr>\n",
       "    <tr>\n",
       "      <th>99</th>\n",
       "      <td>Change your thoughts and you change your world.</td>\n",
       "      <td>Norman Vincent Peale</td>\n",
       "      <td>Inspirational, Motivational, Change</td>\n",
       "    </tr>\n",
       "  </tbody>\n",
       "</table>\n",
       "<p>100 rows × 3 columns</p>\n",
       "</div>"
      ],
      "text/plain": [
       "                                                QUOTE                AUTHOR  \\\n",
       "0   The essence of strategy is choosing what not t...        Michael Porter   \n",
       "1   One cannot and must not try to erase the past ...            Golda Meir   \n",
       "2   Patriotism means to stand by the country. It d...    Theodore Roosevelt   \n",
       "3   Death is something inevitable. When a man has ...        Nelson Mandela   \n",
       "4   You have to love a nation that celebrates its ...          Erma Bombeck   \n",
       "..                                                ...                   ...   \n",
       "95     When the going gets weird, the weird turn pro.    Hunter S. Thompson   \n",
       "96  When a train goes through a tunnel and it gets...       Corrie Ten Boom   \n",
       "97  If you think you are too small to make a diffe...            Dalai Lama   \n",
       "98  God doesn't require us to succeed, he only req...         Mother Teresa   \n",
       "99    Change your thoughts and you change your world.  Norman Vincent Peale   \n",
       "\n",
       "                                  QUOTE_TYPE  \n",
       "0   Essence, Deep Thought, Transcendentalism  \n",
       "1                  Inspiration, Past, Trying  \n",
       "2                        Country, Peace, War  \n",
       "3         Inspirational, Motivational, Death  \n",
       "4               4th Of July, Food, Patriotic  \n",
       "..                                       ...  \n",
       "95                    Music, Sports, Hunting  \n",
       "96             Trust, Encouraging, Uplifting  \n",
       "97              Inspirational, Funny, Change  \n",
       "98                      Success, God, Mother  \n",
       "99       Inspirational, Motivational, Change  \n",
       "\n",
       "[100 rows x 3 columns]"
      ]
     },
     "execution_count": 141,
     "metadata": {},
     "output_type": "execute_result"
    }
   ],
   "source": [
    "df=pd.DataFrame({'QUOTE':quote,'AUTHOR':author,'QUOTE_TYPE':quote_type})\n",
    "df"
   ]
  },
  {
   "cell_type": "markdown",
   "id": "bdb40d4a",
   "metadata": {},
   "source": [
    "Q9: Write a python program to display list of respected former Prime Ministers of India(i.e. Name, Born-Dead, \n",
    "Term of office, Remarks) from https://www.jagranjosh.com/.\n",
    "This task will be done in following steps:\n",
    "1. First get the webpagehttps://www.jagranjosh.com/\n",
    "2. Then You have to click on the GK option\n",
    "3. Then click on the List of all Prime Ministers of India\n",
    "4. Then scrap the mentioned data and make theDataFrame"
   ]
  },
  {
   "cell_type": "code",
   "execution_count": 144,
   "id": "aea3106f",
   "metadata": {},
   "outputs": [],
   "source": [
    "driver = webdriver.Chrome(r\"D:\\Data Science\\chromedriver_win32.zip\\chromedriver.exe\")\n",
    "driver.get('https://www.jagranjosh.com/')"
   ]
  },
  {
   "cell_type": "code",
   "execution_count": null,
   "id": "51463c1d",
   "metadata": {},
   "outputs": [],
   "source": [
    "search = driver.find_element(By.XPATH, '/html/body/div[1]/div[1]/div/div[1]/div/div[5]/div/div/div/form/div[2]/div/input[1]')\n",
    "search.send_keys('List of all Prime Ministers of India')\n",
    "search.click()"
   ]
  },
  {
   "cell_type": "code",
   "execution_count": 150,
   "id": "c603844b",
   "metadata": {},
   "outputs": [],
   "source": [
    "click = driver.find_element(By.XPATH, '/html/body/div[1]/div[3]/div/div[2]/div/div[2]/div/div[2]/h2/a')\n",
    "click.click()"
   ]
  },
  {
   "cell_type": "code",
   "execution_count": 153,
   "id": "29c5d8f1",
   "metadata": {},
   "outputs": [],
   "source": [
    "from bs4 import BeautifulSoup\n",
    "soup = BeautifulSoup(driver.page_source, 'lxml')\n",
    "tables = soup.find_all('table')"
   ]
  },
  {
   "cell_type": "code",
   "execution_count": 154,
   "id": "90c2a97b",
   "metadata": {},
   "outputs": [
    {
     "data": {
      "text/html": [
       "<div>\n",
       "<style scoped>\n",
       "    .dataframe tbody tr th:only-of-type {\n",
       "        vertical-align: middle;\n",
       "    }\n",
       "\n",
       "    .dataframe tbody tr th {\n",
       "        vertical-align: top;\n",
       "    }\n",
       "\n",
       "    .dataframe thead th {\n",
       "        text-align: right;\n",
       "    }\n",
       "</style>\n",
       "<table border=\"1\" class=\"dataframe\">\n",
       "  <thead>\n",
       "    <tr style=\"text-align: right;\">\n",
       "      <th></th>\n",
       "      <th>Name</th>\n",
       "      <th>Born-Dead</th>\n",
       "      <th>Term of office</th>\n",
       "      <th>Remark</th>\n",
       "    </tr>\n",
       "    <tr>\n",
       "      <th>S.N.</th>\n",
       "      <th></th>\n",
       "      <th></th>\n",
       "      <th></th>\n",
       "      <th></th>\n",
       "    </tr>\n",
       "  </thead>\n",
       "  <tbody>\n",
       "    <tr>\n",
       "      <th>1.0</th>\n",
       "      <td>Jawahar Lal Nehru</td>\n",
       "      <td>(1889–1964)</td>\n",
       "      <td>15 August 1947 to 27 May 1964 16 years, 286 days</td>\n",
       "      <td>The first prime minister of India and the long...</td>\n",
       "    </tr>\n",
       "    <tr>\n",
       "      <th>2.0</th>\n",
       "      <td>Gulzarilal Nanda (Acting)</td>\n",
       "      <td>(1898-1998)</td>\n",
       "      <td>27 May 1964 to 9 June 1964, 13 days</td>\n",
       "      <td>First acting PM of India</td>\n",
       "    </tr>\n",
       "    <tr>\n",
       "      <th>3.0</th>\n",
       "      <td>Lal Bahadur Shastri</td>\n",
       "      <td>(1904–1966)</td>\n",
       "      <td>9 June 1964 to 11 January 1966 1 year, 216 days</td>\n",
       "      <td>He has given the slogan of 'Jai Jawan Jai Kisa...</td>\n",
       "    </tr>\n",
       "    <tr>\n",
       "      <th>4.0</th>\n",
       "      <td>Gulzari Lal Nanda (Acting)</td>\n",
       "      <td>(1898-1998)</td>\n",
       "      <td>11 January 1966 to 24 January 1966 13 days</td>\n",
       "      <td>-</td>\n",
       "    </tr>\n",
       "    <tr>\n",
       "      <th>5.0</th>\n",
       "      <td>Indira Gandhi</td>\n",
       "      <td>(1917–1984)</td>\n",
       "      <td>24 January 1966 to 24 March 1977 11 years, 59 ...</td>\n",
       "      <td>First female Prime Minister of India</td>\n",
       "    </tr>\n",
       "    <tr>\n",
       "      <th>6.0</th>\n",
       "      <td>Morarji Desai</td>\n",
       "      <td>(1896–1995)</td>\n",
       "      <td>24 March 1977 to 28 July 1979 2 year, 126 days</td>\n",
       "      <td>Oldest to become PM (81 years old) and first t...</td>\n",
       "    </tr>\n",
       "    <tr>\n",
       "      <th>7.0</th>\n",
       "      <td>Charan Singh</td>\n",
       "      <td>(1902–1987)</td>\n",
       "      <td>28 July 1979 to 14 January 1980 170 days</td>\n",
       "      <td>Only PM who did not face the Parliament</td>\n",
       "    </tr>\n",
       "    <tr>\n",
       "      <th>8.0</th>\n",
       "      <td>Indira Gandhi</td>\n",
       "      <td>(1917–1984)</td>\n",
       "      <td>14 January 1980 to 31 October 1984 4 years, 29...</td>\n",
       "      <td>The first lady who served as PM for the second...</td>\n",
       "    </tr>\n",
       "    <tr>\n",
       "      <th>9.0</th>\n",
       "      <td>Rajiv Gandhi</td>\n",
       "      <td>(1944–1991)</td>\n",
       "      <td>31 October 1984 to 2 December 1989 5 years, 32...</td>\n",
       "      <td>Youngest to become PM (40 years old)</td>\n",
       "    </tr>\n",
       "    <tr>\n",
       "      <th>10.0</th>\n",
       "      <td>V. P. Singh</td>\n",
       "      <td>(1931–2008)</td>\n",
       "      <td>2 December 1989 to 10 November 1990 343 days</td>\n",
       "      <td>First PM to step down after a vote of no confi...</td>\n",
       "    </tr>\n",
       "    <tr>\n",
       "      <th>11.0</th>\n",
       "      <td>Chandra Shekhar</td>\n",
       "      <td>(1927–2007)</td>\n",
       "      <td>10 November 1990 to 21 June 1991 223 days</td>\n",
       "      <td>He belongs to Samajwadi Janata Party</td>\n",
       "    </tr>\n",
       "    <tr>\n",
       "      <th>12.0</th>\n",
       "      <td>P. V. Narasimha Rao</td>\n",
       "      <td>(1921–2004)</td>\n",
       "      <td>21 June 1991 to 16 May 1996 4 years, 330 days</td>\n",
       "      <td>First PM from south India</td>\n",
       "    </tr>\n",
       "    <tr>\n",
       "      <th>13.0</th>\n",
       "      <td>Atal Bihari Vajpayee</td>\n",
       "      <td>(1924- 2018)</td>\n",
       "      <td>16 May 1996 to 1 June 1996 16 days</td>\n",
       "      <td>PM for shortest tenure</td>\n",
       "    </tr>\n",
       "    <tr>\n",
       "      <th>14.0</th>\n",
       "      <td>H. D. Deve Gowda</td>\n",
       "      <td>(born 1933)</td>\n",
       "      <td>1 June 1996 to 21 April 1997 324 days</td>\n",
       "      <td>He belongs to Janata Dal</td>\n",
       "    </tr>\n",
       "    <tr>\n",
       "      <th>15.0</th>\n",
       "      <td>Inder Kumar Gujral</td>\n",
       "      <td>(1919–2012)</td>\n",
       "      <td>21 April 1997 to 19 March 1998 332 days</td>\n",
       "      <td>------</td>\n",
       "    </tr>\n",
       "    <tr>\n",
       "      <th>16.0</th>\n",
       "      <td>Atal Bihari Vajpayee</td>\n",
       "      <td>(1924-2018)</td>\n",
       "      <td>19 March 1998 to 22 May 2004 6 years, 64 days</td>\n",
       "      <td>The first non-congress PM who completed a full...</td>\n",
       "    </tr>\n",
       "    <tr>\n",
       "      <th>17.0</th>\n",
       "      <td>Manmohan Singh</td>\n",
       "      <td>(born 1932)</td>\n",
       "      <td>22 May 2004 to 26 May 2014 10 years, 4 days</td>\n",
       "      <td>First Sikh PM</td>\n",
       "    </tr>\n",
       "    <tr>\n",
       "      <th>18.0</th>\n",
       "      <td>Narendra Modi</td>\n",
       "      <td>(born 1950)</td>\n",
       "      <td>26 May 2014 - Present</td>\n",
       "      <td>4th Prime Minister of India who served two con...</td>\n",
       "    </tr>\n",
       "  </tbody>\n",
       "</table>\n",
       "</div>"
      ],
      "text/plain": [
       "                            Name     Born-Dead  \\\n",
       "S.N.                                             \n",
       "1.0            Jawahar Lal Nehru   (1889–1964)   \n",
       "2.0    Gulzarilal Nanda (Acting)   (1898-1998)   \n",
       "3.0          Lal Bahadur Shastri   (1904–1966)   \n",
       "4.0   Gulzari Lal Nanda (Acting)   (1898-1998)   \n",
       "5.0                Indira Gandhi   (1917–1984)   \n",
       "6.0                Morarji Desai   (1896–1995)   \n",
       "7.0                 Charan Singh   (1902–1987)   \n",
       "8.0                Indira Gandhi   (1917–1984)   \n",
       "9.0                 Rajiv Gandhi   (1944–1991)   \n",
       "10.0                 V. P. Singh   (1931–2008)   \n",
       "11.0             Chandra Shekhar   (1927–2007)   \n",
       "12.0         P. V. Narasimha Rao   (1921–2004)   \n",
       "13.0        Atal Bihari Vajpayee  (1924- 2018)   \n",
       "14.0            H. D. Deve Gowda   (born 1933)   \n",
       "15.0          Inder Kumar Gujral   (1919–2012)   \n",
       "16.0        Atal Bihari Vajpayee   (1924-2018)   \n",
       "17.0              Manmohan Singh   (born 1932)   \n",
       "18.0               Narendra Modi   (born 1950)   \n",
       "\n",
       "                                         Term of office  \\\n",
       "S.N.                                                      \n",
       "1.0    15 August 1947 to 27 May 1964 16 years, 286 days   \n",
       "2.0                 27 May 1964 to 9 June 1964, 13 days   \n",
       "3.0     9 June 1964 to 11 January 1966 1 year, 216 days   \n",
       "4.0          11 January 1966 to 24 January 1966 13 days   \n",
       "5.0   24 January 1966 to 24 March 1977 11 years, 59 ...   \n",
       "6.0      24 March 1977 to 28 July 1979 2 year, 126 days   \n",
       "7.0            28 July 1979 to 14 January 1980 170 days   \n",
       "8.0   14 January 1980 to 31 October 1984 4 years, 29...   \n",
       "9.0   31 October 1984 to 2 December 1989 5 years, 32...   \n",
       "10.0       2 December 1989 to 10 November 1990 343 days   \n",
       "11.0          10 November 1990 to 21 June 1991 223 days   \n",
       "12.0      21 June 1991 to 16 May 1996 4 years, 330 days   \n",
       "13.0                 16 May 1996 to 1 June 1996 16 days   \n",
       "14.0              1 June 1996 to 21 April 1997 324 days   \n",
       "15.0            21 April 1997 to 19 March 1998 332 days   \n",
       "16.0      19 March 1998 to 22 May 2004 6 years, 64 days   \n",
       "17.0        22 May 2004 to 26 May 2014 10 years, 4 days   \n",
       "18.0                              26 May 2014 - Present   \n",
       "\n",
       "                                                 Remark  \n",
       "S.N.                                                     \n",
       "1.0   The first prime minister of India and the long...  \n",
       "2.0                            First acting PM of India  \n",
       "3.0   He has given the slogan of 'Jai Jawan Jai Kisa...  \n",
       "4.0                                                   -  \n",
       "5.0                First female Prime Minister of India  \n",
       "6.0   Oldest to become PM (81 years old) and first t...  \n",
       "7.0             Only PM who did not face the Parliament  \n",
       "8.0   The first lady who served as PM for the second...  \n",
       "9.0                Youngest to become PM (40 years old)  \n",
       "10.0  First PM to step down after a vote of no confi...  \n",
       "11.0               He belongs to Samajwadi Janata Party  \n",
       "12.0                          First PM from south India  \n",
       "13.0                             PM for shortest tenure  \n",
       "14.0                           He belongs to Janata Dal  \n",
       "15.0                                             ------  \n",
       "16.0  The first non-congress PM who completed a full...  \n",
       "17.0                                      First Sikh PM  \n",
       "18.0  4th Prime Minister of India who served two con...  "
      ]
     },
     "execution_count": 154,
     "metadata": {},
     "output_type": "execute_result"
    }
   ],
   "source": [
    "df = pd.read_html(driver.page_source)[0]\n",
    "df.set_index('S.N.')"
   ]
  },
  {
   "cell_type": "markdown",
   "id": "3bfd6416",
   "metadata": {},
   "source": [
    "Q10: Write a python program to display list of 50 Most expensive cars in the world (i.e. \n",
    "Car name and Price) from https://www.motor1.com/\n",
    "This task will be done in following steps:\n",
    "1. First get the webpagehttps://www.motor1.com/\n",
    "2. Then You have to click on the List option from Dropdown menu on leftside.\n",
    "3. Then click on 50 most expensive carsin the world..\n",
    "4. Then scrap the mentioned data and make the dataframe"
   ]
  },
  {
   "cell_type": "code",
   "execution_count": null,
   "id": "c3679488",
   "metadata": {},
   "outputs": [],
   "source": [
    "driver = webdriver.Chrome(r\"D:\\Data Science\\chromedriver_win32.zip\\chromedriver.exe\")\n",
    "driver.get('https://www.motor1.com/')"
   ]
  },
  {
   "cell_type": "code",
   "execution_count": 157,
   "id": "1742eca1",
   "metadata": {},
   "outputs": [],
   "source": [
    "time.sleep(5)\n",
    "features = driver.find_element(By.XPATH, '/html/body/div[3]/div[7]/div/div[1]/div[1]/div[4]/div/div[1]/h3/a')\n",
    "features.click()"
   ]
  },
  {
   "cell_type": "code",
   "execution_count": 158,
   "id": "d597f36d",
   "metadata": {},
   "outputs": [],
   "source": [
    "time.sleep(5)\n",
    "\n",
    "most_exp = driver.find_element(By.XPATH, '/html/body/div[3]/div[7]/div[2]/div[1]/div[2]/div[1]/section[2]/picture/img')\n",
    "most_exp.click()\n"
   ]
  },
  {
   "cell_type": "code",
   "execution_count": 159,
   "id": "61f1990e",
   "metadata": {},
   "outputs": [],
   "source": [
    "price = driver.find_element(By.XPATH, '/html/body/div[3]/div[7]/div[2]/div[1]/div[2]/div[1]/p[4]/strong')"
   ]
  },
  {
   "cell_type": "code",
   "execution_count": 162,
   "id": "eeb14f68",
   "metadata": {},
   "outputs": [],
   "source": [
    "lists = []\n",
    "\n",
    "for i in range(1,2):\n",
    "    name = driver.find_elements(By.XPATH, '//h3[@class=\"subheader\"]')\n",
    "    #price = driver.find_elements(By.XPATH, '')"
   ]
  },
  {
   "cell_type": "code",
   "execution_count": 163,
   "id": "66d60da1",
   "metadata": {},
   "outputs": [
    {
     "data": {
      "text/html": [
       "<div>\n",
       "<style scoped>\n",
       "    .dataframe tbody tr th:only-of-type {\n",
       "        vertical-align: middle;\n",
       "    }\n",
       "\n",
       "    .dataframe tbody tr th {\n",
       "        vertical-align: top;\n",
       "    }\n",
       "\n",
       "    .dataframe thead th {\n",
       "        text-align: right;\n",
       "    }\n",
       "</style>\n",
       "<table border=\"1\" class=\"dataframe\">\n",
       "  <thead>\n",
       "    <tr style=\"text-align: right;\">\n",
       "      <th></th>\n",
       "      <th>Top_Expensive_Cars</th>\n",
       "    </tr>\n",
       "  </thead>\n",
       "  <tbody>\n",
       "    <tr>\n",
       "      <th>0</th>\n",
       "      <td>De Tomaso P72</td>\n",
       "    </tr>\n",
       "    <tr>\n",
       "      <th>1</th>\n",
       "      <td>Ferrari LaFerrari</td>\n",
       "    </tr>\n",
       "    <tr>\n",
       "      <th>2</th>\n",
       "      <td>Pagani Huayra</td>\n",
       "    </tr>\n",
       "    <tr>\n",
       "      <th>3</th>\n",
       "      <td>McLaren Elva</td>\n",
       "    </tr>\n",
       "    <tr>\n",
       "      <th>4</th>\n",
       "      <td>Czinger 21C</td>\n",
       "    </tr>\n",
       "    <tr>\n",
       "      <th>5</th>\n",
       "      <td>Ferrari Monza</td>\n",
       "    </tr>\n",
       "    <tr>\n",
       "      <th>6</th>\n",
       "      <td>Gordon Murray T.33</td>\n",
       "    </tr>\n",
       "    <tr>\n",
       "      <th>7</th>\n",
       "      <td>Koenigsegg Gemera</td>\n",
       "    </tr>\n",
       "    <tr>\n",
       "      <th>8</th>\n",
       "      <td>Zenvo TSR-S</td>\n",
       "    </tr>\n",
       "    <tr>\n",
       "      <th>9</th>\n",
       "      <td>Hennessey Venom F5</td>\n",
       "    </tr>\n",
       "    <tr>\n",
       "      <th>10</th>\n",
       "      <td>Bentley Bacalar</td>\n",
       "    </tr>\n",
       "    <tr>\n",
       "      <th>11</th>\n",
       "      <td>Hispano Suiza Carmen Boulogne</td>\n",
       "    </tr>\n",
       "    <tr>\n",
       "      <th>12</th>\n",
       "      <td>Bentley Mulliner Batur</td>\n",
       "    </tr>\n",
       "    <tr>\n",
       "      <th>13</th>\n",
       "      <td>Deus Vayanne</td>\n",
       "    </tr>\n",
       "    <tr>\n",
       "      <th>14</th>\n",
       "      <td>SSC Tuatara</td>\n",
       "    </tr>\n",
       "    <tr>\n",
       "      <th>15</th>\n",
       "      <td>Lotus Evija</td>\n",
       "    </tr>\n",
       "    <tr>\n",
       "      <th>16</th>\n",
       "      <td>Aston Martin Vulcan</td>\n",
       "    </tr>\n",
       "    <tr>\n",
       "      <th>17</th>\n",
       "      <td>Delage D12</td>\n",
       "    </tr>\n",
       "    <tr>\n",
       "      <th>18</th>\n",
       "      <td>McLaren Speedtail</td>\n",
       "    </tr>\n",
       "    <tr>\n",
       "      <th>19</th>\n",
       "      <td>Rimac Nevera</td>\n",
       "    </tr>\n",
       "    <tr>\n",
       "      <th>20</th>\n",
       "      <td>Pagani Utopia</td>\n",
       "    </tr>\n",
       "    <tr>\n",
       "      <th>21</th>\n",
       "      <td>Pininfarina Battista</td>\n",
       "    </tr>\n",
       "    <tr>\n",
       "      <th>22</th>\n",
       "      <td>Ferrari FXX K Evo</td>\n",
       "    </tr>\n",
       "    <tr>\n",
       "      <th>23</th>\n",
       "      <td>Gordon Murray T.50</td>\n",
       "    </tr>\n",
       "    <tr>\n",
       "      <th>24</th>\n",
       "      <td>Lamborghini Countach</td>\n",
       "    </tr>\n",
       "    <tr>\n",
       "      <th>25</th>\n",
       "      <td>Mercedes-AMG Project One</td>\n",
       "    </tr>\n",
       "    <tr>\n",
       "      <th>26</th>\n",
       "      <td>Aston Martin Victor</td>\n",
       "    </tr>\n",
       "    <tr>\n",
       "      <th>27</th>\n",
       "      <td>Hennessey Venom F5 Roadster</td>\n",
       "    </tr>\n",
       "    <tr>\n",
       "      <th>28</th>\n",
       "      <td>Koenigsegg Jesko</td>\n",
       "    </tr>\n",
       "    <tr>\n",
       "      <th>29</th>\n",
       "      <td>Aston Martin Valkyrie</td>\n",
       "    </tr>\n",
       "    <tr>\n",
       "      <th>30</th>\n",
       "      <td>W Motors Lykan Hypersport</td>\n",
       "    </tr>\n",
       "    <tr>\n",
       "      <th>31</th>\n",
       "      <td>McLaren Solus</td>\n",
       "    </tr>\n",
       "    <tr>\n",
       "      <th>32</th>\n",
       "      <td>Pagani Huayra Roadster BC</td>\n",
       "    </tr>\n",
       "    <tr>\n",
       "      <th>33</th>\n",
       "      <td>Bugatti Chiron Pur Sport</td>\n",
       "    </tr>\n",
       "    <tr>\n",
       "      <th>34</th>\n",
       "      <td>Lamborghini Sian</td>\n",
       "    </tr>\n",
       "    <tr>\n",
       "      <th>35</th>\n",
       "      <td>Koenigsegg CC850</td>\n",
       "    </tr>\n",
       "    <tr>\n",
       "      <th>36</th>\n",
       "      <td>Bugatti Chiron Super Sport 300+</td>\n",
       "    </tr>\n",
       "    <tr>\n",
       "      <th>37</th>\n",
       "      <td>Lamborghini Veneno</td>\n",
       "    </tr>\n",
       "    <tr>\n",
       "      <th>38</th>\n",
       "      <td>Bugatti Bolide</td>\n",
       "    </tr>\n",
       "    <tr>\n",
       "      <th>39</th>\n",
       "      <td>Bugatti Mistral</td>\n",
       "    </tr>\n",
       "    <tr>\n",
       "      <th>40</th>\n",
       "      <td>Pagani Huayra Imola</td>\n",
       "    </tr>\n",
       "    <tr>\n",
       "      <th>41</th>\n",
       "      <td>Bugatti Divo</td>\n",
       "    </tr>\n",
       "    <tr>\n",
       "      <th>42</th>\n",
       "      <td>SP Automotive Chaos</td>\n",
       "    </tr>\n",
       "    <tr>\n",
       "      <th>43</th>\n",
       "      <td>Pagani Codalunga</td>\n",
       "    </tr>\n",
       "    <tr>\n",
       "      <th>44</th>\n",
       "      <td>Mercedes-Maybach Exelero</td>\n",
       "    </tr>\n",
       "    <tr>\n",
       "      <th>45</th>\n",
       "      <td>Bugatti Centodieci</td>\n",
       "    </tr>\n",
       "    <tr>\n",
       "      <th>46</th>\n",
       "      <td>Bugatti Chiron Profilée</td>\n",
       "    </tr>\n",
       "    <tr>\n",
       "      <th>47</th>\n",
       "      <td>Rolls-Royce Sweptail</td>\n",
       "    </tr>\n",
       "    <tr>\n",
       "      <th>48</th>\n",
       "      <td>Bugatti La Voiture Noire</td>\n",
       "    </tr>\n",
       "    <tr>\n",
       "      <th>49</th>\n",
       "      <td>Rolls-Royce Boat Tail*</td>\n",
       "    </tr>\n",
       "    <tr>\n",
       "      <th>50</th>\n",
       "      <td>Most Expensive Cars In The World</td>\n",
       "    </tr>\n",
       "  </tbody>\n",
       "</table>\n",
       "</div>"
      ],
      "text/plain": [
       "                  Top_Expensive_Cars\n",
       "0                      De Tomaso P72\n",
       "1                  Ferrari LaFerrari\n",
       "2                      Pagani Huayra\n",
       "3                       McLaren Elva\n",
       "4                        Czinger 21C\n",
       "5                      Ferrari Monza\n",
       "6                 Gordon Murray T.33\n",
       "7                  Koenigsegg Gemera\n",
       "8                        Zenvo TSR-S\n",
       "9                 Hennessey Venom F5\n",
       "10                   Bentley Bacalar\n",
       "11     Hispano Suiza Carmen Boulogne\n",
       "12            Bentley Mulliner Batur\n",
       "13                      Deus Vayanne\n",
       "14                       SSC Tuatara\n",
       "15                       Lotus Evija\n",
       "16               Aston Martin Vulcan\n",
       "17                        Delage D12\n",
       "18                 McLaren Speedtail\n",
       "19                      Rimac Nevera\n",
       "20                     Pagani Utopia\n",
       "21              Pininfarina Battista\n",
       "22                 Ferrari FXX K Evo\n",
       "23                Gordon Murray T.50\n",
       "24              Lamborghini Countach\n",
       "25          Mercedes-AMG Project One\n",
       "26               Aston Martin Victor\n",
       "27       Hennessey Venom F5 Roadster\n",
       "28                  Koenigsegg Jesko\n",
       "29             Aston Martin Valkyrie\n",
       "30         W Motors Lykan Hypersport\n",
       "31                     McLaren Solus\n",
       "32         Pagani Huayra Roadster BC\n",
       "33          Bugatti Chiron Pur Sport\n",
       "34                  Lamborghini Sian\n",
       "35                  Koenigsegg CC850\n",
       "36   Bugatti Chiron Super Sport 300+\n",
       "37                Lamborghini Veneno\n",
       "38                    Bugatti Bolide\n",
       "39                   Bugatti Mistral\n",
       "40               Pagani Huayra Imola\n",
       "41                      Bugatti Divo\n",
       "42               SP Automotive Chaos\n",
       "43                  Pagani Codalunga\n",
       "44          Mercedes-Maybach Exelero\n",
       "45                Bugatti Centodieci\n",
       "46           Bugatti Chiron Profilée\n",
       "47              Rolls-Royce Sweptail\n",
       "48          Bugatti La Voiture Noire\n",
       "49            Rolls-Royce Boat Tail*\n",
       "50  Most Expensive Cars In The World"
      ]
     },
     "execution_count": 163,
     "metadata": {},
     "output_type": "execute_result"
    }
   ],
   "source": [
    "Top = pd.DataFrame([i.text for i in name], columns = ['Top_Expensive_Cars'])\n",
    "Top"
   ]
  },
  {
   "cell_type": "code",
   "execution_count": null,
   "id": "1217400e",
   "metadata": {},
   "outputs": [],
   "source": []
  }
 ],
 "metadata": {
  "kernelspec": {
   "display_name": "Python 3 (ipykernel)",
   "language": "python",
   "name": "python3"
  },
  "language_info": {
   "codemirror_mode": {
    "name": "ipython",
    "version": 3
   },
   "file_extension": ".py",
   "mimetype": "text/x-python",
   "name": "python",
   "nbconvert_exporter": "python",
   "pygments_lexer": "ipython3",
   "version": "3.9.12"
  }
 },
 "nbformat": 4,
 "nbformat_minor": 5
}
